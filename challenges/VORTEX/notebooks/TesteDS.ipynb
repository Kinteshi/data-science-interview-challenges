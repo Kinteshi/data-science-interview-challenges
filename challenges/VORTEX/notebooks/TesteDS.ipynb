{
 "cells": [
  {
   "cell_type": "markdown",
   "metadata": {},
   "source": [
    "## Imports"
   ]
  },
  {
   "cell_type": "code",
   "execution_count": 1,
   "metadata": {},
   "outputs": [],
   "source": [
    "import pandas as pd\n",
    "import matplotlib.pyplot as plt\n",
    "import seaborn as sns\n",
    "import numpy as np\n",
    "import scipy.stats as st\n",
    "from sklearn.ensemble import RandomForestClassifier\n",
    "from sklearn.model_selection import train_test_split, GridSearchCV\n",
    "from sklearn.preprocessing import OneHotEncoder, StandardScaler\n",
    "from sklearn.pipeline import Pipeline\n",
    "from sklearn.compose import ColumnTransformer\n",
    "from sklearn.metrics import  roc_auc_score, roc_curve\n",
    "\n",
    "sns.set_theme(\n",
    "    context='notebook',\n",
    "    style='darkgrid',\n",
    "    palette='deep',\n",
    ")"
   ]
  },
  {
   "cell_type": "markdown",
   "metadata": {},
   "source": [
    "## Leitura e tratamento inicial"
   ]
  },
  {
   "cell_type": "code",
   "execution_count": 2,
   "metadata": {},
   "outputs": [],
   "source": [
    "data = pd.read_csv('data_test_DS.csv')"
   ]
  },
  {
   "cell_type": "code",
   "execution_count": 3,
   "metadata": {},
   "outputs": [
    {
     "data": {
      "text/html": [
       "<div>\n",
       "<style scoped>\n",
       "    .dataframe tbody tr th:only-of-type {\n",
       "        vertical-align: middle;\n",
       "    }\n",
       "\n",
       "    .dataframe tbody tr th {\n",
       "        vertical-align: top;\n",
       "    }\n",
       "\n",
       "    .dataframe thead th {\n",
       "        text-align: right;\n",
       "    }\n",
       "</style>\n",
       "<table border=\"1\" class=\"dataframe\">\n",
       "  <thead>\n",
       "    <tr style=\"text-align: right;\">\n",
       "      <th></th>\n",
       "      <th>Nº do cliente</th>\n",
       "      <th>Safra</th>\n",
       "      <th>Estado</th>\n",
       "      <th>Renda Mensal</th>\n",
       "      <th>Endividamento</th>\n",
       "      <th>Quantidade de Cheques sem Fundo</th>\n",
       "      <th>Quantidade de Restritivos</th>\n",
       "      <th>Valor dos Restritivos</th>\n",
       "      <th>Quantidade de Protestos</th>\n",
       "      <th>Valor dos Protestos</th>\n",
       "      <th>Modelo Score 1</th>\n",
       "      <th>Modelo Score 2</th>\n",
       "      <th>Modelo Score 3</th>\n",
       "      <th>Modelo Score 4</th>\n",
       "      <th>Performance 30D3M EVER</th>\n",
       "      <th>Performance 60D6M EVER</th>\n",
       "      <th>Performance 60D9M EVER</th>\n",
       "      <th>Performance 90D9M EVER</th>\n",
       "      <th>Performance 90D12M EVER</th>\n",
       "    </tr>\n",
       "  </thead>\n",
       "  <tbody>\n",
       "    <tr>\n",
       "      <th>0</th>\n",
       "      <td>6.325851e+08</td>\n",
       "      <td>2020-05-01 00:00:00 UTC</td>\n",
       "      <td>MS</td>\n",
       "      <td>1076.0</td>\n",
       "      <td>26 a 50%</td>\n",
       "      <td>0.0</td>\n",
       "      <td>2.0</td>\n",
       "      <td>418.0</td>\n",
       "      <td>0.0</td>\n",
       "      <td>0.0</td>\n",
       "      <td>141.0</td>\n",
       "      <td>236.0</td>\n",
       "      <td>196.0</td>\n",
       "      <td>405.0</td>\n",
       "      <td>BOM</td>\n",
       "      <td>MAU</td>\n",
       "      <td>MAU</td>\n",
       "      <td>MAU</td>\n",
       "      <td>MAU</td>\n",
       "    </tr>\n",
       "    <tr>\n",
       "      <th>1</th>\n",
       "      <td>1.190978e+09</td>\n",
       "      <td>2020-05-01 00:00:00 UTC</td>\n",
       "      <td>MG</td>\n",
       "      <td>12709.0</td>\n",
       "      <td>Até 25%</td>\n",
       "      <td>0.0</td>\n",
       "      <td>0.0</td>\n",
       "      <td>0.0</td>\n",
       "      <td>0.0</td>\n",
       "      <td>0.0</td>\n",
       "      <td>767.0</td>\n",
       "      <td>646.0</td>\n",
       "      <td>805.0</td>\n",
       "      <td>946.0</td>\n",
       "      <td>BOM</td>\n",
       "      <td>BOM</td>\n",
       "      <td>BOM</td>\n",
       "      <td>BOM</td>\n",
       "      <td>BOM</td>\n",
       "    </tr>\n",
       "    <tr>\n",
       "      <th>2</th>\n",
       "      <td>1.089165e+09</td>\n",
       "      <td>2020-06-01 00:00:00 UTC</td>\n",
       "      <td>MS</td>\n",
       "      <td>2518.0</td>\n",
       "      <td>Acima de 100%</td>\n",
       "      <td>0.0</td>\n",
       "      <td>4.0</td>\n",
       "      <td>32306.0</td>\n",
       "      <td>0.0</td>\n",
       "      <td>0.0</td>\n",
       "      <td>67.0</td>\n",
       "      <td>238.0</td>\n",
       "      <td>196.0</td>\n",
       "      <td>563.0</td>\n",
       "      <td>BOM</td>\n",
       "      <td>BOM</td>\n",
       "      <td>BOM</td>\n",
       "      <td>BOM</td>\n",
       "      <td>BOM</td>\n",
       "    </tr>\n",
       "    <tr>\n",
       "      <th>3</th>\n",
       "      <td>1.342327e+08</td>\n",
       "      <td>2020-05-01 00:00:00 UTC</td>\n",
       "      <td>RS</td>\n",
       "      <td>1090.0</td>\n",
       "      <td>Até 25%</td>\n",
       "      <td>0.0</td>\n",
       "      <td>0.0</td>\n",
       "      <td>0.0</td>\n",
       "      <td>0.0</td>\n",
       "      <td>0.0</td>\n",
       "      <td>245.0</td>\n",
       "      <td>523.0</td>\n",
       "      <td>290.0</td>\n",
       "      <td>698.0</td>\n",
       "      <td>MAU</td>\n",
       "      <td>BOM</td>\n",
       "      <td>MAU</td>\n",
       "      <td>BOM</td>\n",
       "      <td>MAU</td>\n",
       "    </tr>\n",
       "    <tr>\n",
       "      <th>4</th>\n",
       "      <td>1.055186e+09</td>\n",
       "      <td>2020-10-01 00:00:00 UTC</td>\n",
       "      <td>RJ</td>\n",
       "      <td>1155.0</td>\n",
       "      <td>Até 25%</td>\n",
       "      <td>0.0</td>\n",
       "      <td>0.0</td>\n",
       "      <td>0.0</td>\n",
       "      <td>0.0</td>\n",
       "      <td>0.0</td>\n",
       "      <td>697.0</td>\n",
       "      <td>718.0</td>\n",
       "      <td>645.0</td>\n",
       "      <td>816.0</td>\n",
       "      <td>BOM</td>\n",
       "      <td>BOM</td>\n",
       "      <td>NaN</td>\n",
       "      <td>NaN</td>\n",
       "      <td>NaN</td>\n",
       "    </tr>\n",
       "  </tbody>\n",
       "</table>\n",
       "</div>"
      ],
      "text/plain": [
       "   Nº do cliente                    Safra Estado  Renda Mensal  Endividamento  \\\n",
       "0   6.325851e+08  2020-05-01 00:00:00 UTC     MS        1076.0       26 a 50%   \n",
       "1   1.190978e+09  2020-05-01 00:00:00 UTC     MG       12709.0        Até 25%   \n",
       "2   1.089165e+09  2020-06-01 00:00:00 UTC     MS        2518.0  Acima de 100%   \n",
       "3   1.342327e+08  2020-05-01 00:00:00 UTC     RS        1090.0        Até 25%   \n",
       "4   1.055186e+09  2020-10-01 00:00:00 UTC     RJ        1155.0        Até 25%   \n",
       "\n",
       "   Quantidade de Cheques sem Fundo  Quantidade de Restritivos  \\\n",
       "0                              0.0                        2.0   \n",
       "1                              0.0                        0.0   \n",
       "2                              0.0                        4.0   \n",
       "3                              0.0                        0.0   \n",
       "4                              0.0                        0.0   \n",
       "\n",
       "   Valor dos Restritivos  Quantidade de Protestos  Valor dos Protestos  \\\n",
       "0                  418.0                      0.0                  0.0   \n",
       "1                    0.0                      0.0                  0.0   \n",
       "2                32306.0                      0.0                  0.0   \n",
       "3                    0.0                      0.0                  0.0   \n",
       "4                    0.0                      0.0                  0.0   \n",
       "\n",
       "   Modelo Score 1  Modelo Score 2  Modelo Score 3  Modelo Score 4  \\\n",
       "0           141.0           236.0           196.0           405.0   \n",
       "1           767.0           646.0           805.0           946.0   \n",
       "2            67.0           238.0           196.0           563.0   \n",
       "3           245.0           523.0           290.0           698.0   \n",
       "4           697.0           718.0           645.0           816.0   \n",
       "\n",
       "  Performance 30D3M EVER Performance 60D6M EVER Performance 60D9M EVER  \\\n",
       "0                    BOM                    MAU                    MAU   \n",
       "1                    BOM                    BOM                    BOM   \n",
       "2                    BOM                    BOM                    BOM   \n",
       "3                    MAU                    BOM                    MAU   \n",
       "4                    BOM                    BOM                    NaN   \n",
       "\n",
       "  Performance 90D9M EVER Performance 90D12M EVER  \n",
       "0                    MAU                     MAU  \n",
       "1                    BOM                     BOM  \n",
       "2                    BOM                     BOM  \n",
       "3                    BOM                     MAU  \n",
       "4                    NaN                     NaN  "
      ]
     },
     "execution_count": 3,
     "metadata": {},
     "output_type": "execute_result"
    }
   ],
   "source": [
    "data.head()"
   ]
  },
  {
   "cell_type": "code",
   "execution_count": 4,
   "metadata": {},
   "outputs": [],
   "source": [
    "# Normalizar nome das colunas\n",
    "def normalize_col_name(name: str) -> str:\n",
    "\n",
    "    \"\"\"Transforma o nome da coluna em um nome normalizado sem espaços e caracteres especiais.\n",
    "\n",
    "    Args:\n",
    "        name: `str`\n",
    "            Nome de uma coluna da base de dados.\n",
    "\n",
    "    Returns:\n",
    "        name: `str`\n",
    "            Nome de uma coluna normalizado sem espaços e caracteres especiais.\n",
    "    \"\"\"\n",
    "\n",
    "    name = name.lower()\n",
    "    name = name.replace(' ', '_')\n",
    "    name = name.replace('º', '')\n",
    "    return name\n",
    "\n",
    "# Aplicar normalização\n",
    "data.columns = [normalize_col_name(col) for col in data.columns]"
   ]
  },
  {
   "cell_type": "code",
   "execution_count": 5,
   "metadata": {},
   "outputs": [
    {
     "name": "stdout",
     "output_type": "stream",
     "text": [
      "<class 'pandas.core.frame.DataFrame'>\n",
      "RangeIndex: 11994 entries, 0 to 11993\n",
      "Data columns (total 19 columns):\n",
      " #   Column                           Non-Null Count  Dtype  \n",
      "---  ------                           --------------  -----  \n",
      " 0   n_do_cliente                     10000 non-null  float64\n",
      " 1   safra                            10000 non-null  object \n",
      " 2   estado                           10000 non-null  object \n",
      " 3   renda_mensal                     10000 non-null  float64\n",
      " 4   endividamento                    10000 non-null  object \n",
      " 5   quantidade_de_cheques_sem_fundo  10000 non-null  float64\n",
      " 6   quantidade_de_restritivos        10000 non-null  float64\n",
      " 7   valor_dos_restritivos            10000 non-null  float64\n",
      " 8   quantidade_de_protestos          10000 non-null  float64\n",
      " 9   valor_dos_protestos              10000 non-null  float64\n",
      " 10  modelo_score_1                   10000 non-null  float64\n",
      " 11  modelo_score_2                   10000 non-null  float64\n",
      " 12  modelo_score_3                   10000 non-null  float64\n",
      " 13  modelo_score_4                   10000 non-null  float64\n",
      " 14  performance_30d3m_ever           10000 non-null  object \n",
      " 15  performance_60d6m_ever           10000 non-null  object \n",
      " 16  performance_60d9m_ever           8335 non-null   object \n",
      " 17  performance_90d9m_ever           8335 non-null   object \n",
      " 18  performance_90d12m_ever          3995 non-null   object \n",
      "dtypes: float64(11), object(8)\n",
      "memory usage: 1.7+ MB\n"
     ]
    }
   ],
   "source": [
    "data.info()"
   ]
  },
  {
   "cell_type": "markdown",
   "metadata": {},
   "source": [
    "As primeiras 16 colunas possuem 1994 registros nulos em alguma posição. Observando no csv pode-se ver que existem muitas linhas completamente nulas ou só com a última coluna preenchida."
   ]
  },
  {
   "cell_type": "code",
   "execution_count": 6,
   "metadata": {},
   "outputs": [],
   "source": [
    "# Remoção de valores nulos que se estendem por completo nas linhas em colunas que não são variáveis resposta\n",
    "cols = ['n_do_cliente', 'safra', 'estado', 'renda_mensal', 'endividamento',\n",
    "       'quantidade_de_cheques_sem_fundo', 'quantidade_de_restritivos',\n",
    "       'valor_dos_restritivos', 'quantidade_de_protestos',\n",
    "       'valor_dos_protestos',]\n",
    "data = data.dropna(how='all', subset=cols)"
   ]
  },
  {
   "cell_type": "code",
   "execution_count": 7,
   "metadata": {},
   "outputs": [
    {
     "name": "stdout",
     "output_type": "stream",
     "text": [
      "<class 'pandas.core.frame.DataFrame'>\n",
      "Int64Index: 10000 entries, 0 to 9999\n",
      "Data columns (total 19 columns):\n",
      " #   Column                           Non-Null Count  Dtype  \n",
      "---  ------                           --------------  -----  \n",
      " 0   n_do_cliente                     10000 non-null  float64\n",
      " 1   safra                            10000 non-null  object \n",
      " 2   estado                           10000 non-null  object \n",
      " 3   renda_mensal                     10000 non-null  float64\n",
      " 4   endividamento                    10000 non-null  object \n",
      " 5   quantidade_de_cheques_sem_fundo  10000 non-null  float64\n",
      " 6   quantidade_de_restritivos        10000 non-null  float64\n",
      " 7   valor_dos_restritivos            10000 non-null  float64\n",
      " 8   quantidade_de_protestos          10000 non-null  float64\n",
      " 9   valor_dos_protestos              10000 non-null  float64\n",
      " 10  modelo_score_1                   10000 non-null  float64\n",
      " 11  modelo_score_2                   10000 non-null  float64\n",
      " 12  modelo_score_3                   10000 non-null  float64\n",
      " 13  modelo_score_4                   10000 non-null  float64\n",
      " 14  performance_30d3m_ever           10000 non-null  object \n",
      " 15  performance_60d6m_ever           10000 non-null  object \n",
      " 16  performance_60d9m_ever           8335 non-null   object \n",
      " 17  performance_90d9m_ever           8335 non-null   object \n",
      " 18  performance_90d12m_ever          3354 non-null   object \n",
      "dtypes: float64(11), object(8)\n",
      "memory usage: 1.5+ MB\n"
     ]
    }
   ],
   "source": [
    "data.info()"
   ]
  },
  {
   "cell_type": "markdown",
   "metadata": {},
   "source": [
    "É possível ver que foram removidas as 1994 linhas que estavam quase ou completamente nulas."
   ]
  },
  {
   "cell_type": "code",
   "execution_count": 8,
   "metadata": {},
   "outputs": [
    {
     "data": {
      "text/plain": [
       "10000"
      ]
     },
     "execution_count": 8,
     "metadata": {},
     "output_type": "execute_result"
    }
   ],
   "source": [
    "data.__len__() # Número de instâncias na base de dados"
   ]
  },
  {
   "cell_type": "markdown",
   "metadata": {},
   "source": [
    "## Análise Descritiva"
   ]
  },
  {
   "cell_type": "markdown",
   "metadata": {},
   "source": [
    "### Análise das variáveis resposta\n",
    "Aqui analiso as variáveis resposta categóricas com a intenção de fazer um modelo preditivo para classificação.\n",
    "\n",
    "Após observar os gráficos, valores e quantidades de instâncias na base: na performance relativa a inadimplência por mais de 60 dias num período de 90 dias percebe-se uma maior concentração de indicadores ruins. Esse pode ser um ponto de atenção para a empresa, visto que nesse período de tempo e padrão de comportamento o risco de inadimplência é maior. Ainda, considerando períodos de inadimplência superiores a 90 dias no mesmo período de observação a proporção de indicadores ruim é menor, o que pode sugerir que existe potencial de redução nesse período. Mesmo com instâncias de dados não rotuladas a quantidade de dados não é significantemente menor que a quantidade de dados totais >8000.\n",
    "\n",
    "Com as considerações acima, utilizarei a variável resposta `Performance 60D9M EVER` para fazer um modelo para classificação. As análises serão feitas em função dela."
   ]
  },
  {
   "cell_type": "code",
   "execution_count": 9,
   "metadata": {},
   "outputs": [
    {
     "data": {
      "text/html": [
       "<div>\n",
       "<style scoped>\n",
       "    .dataframe tbody tr th:only-of-type {\n",
       "        vertical-align: middle;\n",
       "    }\n",
       "\n",
       "    .dataframe tbody tr th {\n",
       "        vertical-align: top;\n",
       "    }\n",
       "\n",
       "    .dataframe thead th {\n",
       "        text-align: right;\n",
       "    }\n",
       "</style>\n",
       "<table border=\"1\" class=\"dataframe\">\n",
       "  <thead>\n",
       "    <tr style=\"text-align: right;\">\n",
       "      <th></th>\n",
       "      <th>performance_30d3m_ever</th>\n",
       "    </tr>\n",
       "  </thead>\n",
       "  <tbody>\n",
       "    <tr>\n",
       "      <th>BOM</th>\n",
       "      <td>0.8756</td>\n",
       "    </tr>\n",
       "    <tr>\n",
       "      <th>MAU</th>\n",
       "      <td>0.1244</td>\n",
       "    </tr>\n",
       "  </tbody>\n",
       "</table>\n",
       "</div>"
      ],
      "text/plain": [
       "     performance_30d3m_ever\n",
       "BOM                  0.8756\n",
       "MAU                  0.1244"
      ]
     },
     "execution_count": 9,
     "metadata": {},
     "output_type": "execute_result"
    },
    {
     "data": {
      "image/png": "[encoded data removed]",
      "text/plain": [
       "<Figure size 432x288 with 1 Axes>"
      ]
     },
     "metadata": {},
     "output_type": "display_data"
    }
   ],
   "source": [
    "ax = sns.countplot(data=data, x='performance_30d3m_ever', order=data['performance_60d6m_ever'].value_counts().index)\n",
    "for p in ax.patches:\n",
    "    ax.annotate(f'{p.get_height()}', (p.get_x() + p.get_width() / 2., p.get_height()), ha='center', va='top', xytext=(0, 10), textcoords='offset points')\n",
    "plt.xlabel('Performance 30D3M EVER')\n",
    "plt.ylabel('Número de Clientes')\n",
    "plt.title('Contagem de Clientes por Performance 30D3M EVER');\n",
    "data.performance_30d3m_ever.value_counts(normalize=True).to_frame()"
   ]
  },
  {
   "cell_type": "code",
   "execution_count": 10,
   "metadata": {},
   "outputs": [
    {
     "data": {
      "text/html": [
       "<div>\n",
       "<style scoped>\n",
       "    .dataframe tbody tr th:only-of-type {\n",
       "        vertical-align: middle;\n",
       "    }\n",
       "\n",
       "    .dataframe tbody tr th {\n",
       "        vertical-align: top;\n",
       "    }\n",
       "\n",
       "    .dataframe thead th {\n",
       "        text-align: right;\n",
       "    }\n",
       "</style>\n",
       "<table border=\"1\" class=\"dataframe\">\n",
       "  <thead>\n",
       "    <tr style=\"text-align: right;\">\n",
       "      <th></th>\n",
       "      <th>performance_60d6m_ever</th>\n",
       "    </tr>\n",
       "  </thead>\n",
       "  <tbody>\n",
       "    <tr>\n",
       "      <th>BOM</th>\n",
       "      <td>0.829</td>\n",
       "    </tr>\n",
       "    <tr>\n",
       "      <th>MAU</th>\n",
       "      <td>0.171</td>\n",
       "    </tr>\n",
       "  </tbody>\n",
       "</table>\n",
       "</div>"
      ],
      "text/plain": [
       "     performance_60d6m_ever\n",
       "BOM                   0.829\n",
       "MAU                   0.171"
      ]
     },
     "execution_count": 10,
     "metadata": {},
     "output_type": "execute_result"
    },
    {
     "data": {
      "image/png": "[encoded data removed]",
      "text/plain": [
       "<Figure size 432x288 with 1 Axes>"
      ]
     },
     "metadata": {},
     "output_type": "display_data"
    }
   ],
   "source": [
    "ax = sns.countplot(data=data, x='performance_60d6m_ever', order=data['performance_60d6m_ever'].value_counts().index)\n",
    "for p in ax.patches:\n",
    "    ax.annotate(f'{p.get_height()}', (p.get_x() + p.get_width() / 2., p.get_height()), ha='center', va='top', xytext=(0, 10), textcoords='offset points')\n",
    "plt.xlabel('Performance 60D6M EVER')\n",
    "plt.ylabel('Número de Clientes')\n",
    "plt.title('Contagem de Clientes por Performance 60D6M EVER');\n",
    "data.performance_60d6m_ever.value_counts(normalize=True).to_frame()"
   ]
  },
  {
   "cell_type": "code",
   "execution_count": 11,
   "metadata": {},
   "outputs": [
    {
     "data": {
      "text/html": [
       "<div>\n",
       "<style scoped>\n",
       "    .dataframe tbody tr th:only-of-type {\n",
       "        vertical-align: middle;\n",
       "    }\n",
       "\n",
       "    .dataframe tbody tr th {\n",
       "        vertical-align: top;\n",
       "    }\n",
       "\n",
       "    .dataframe thead th {\n",
       "        text-align: right;\n",
       "    }\n",
       "</style>\n",
       "<table border=\"1\" class=\"dataframe\">\n",
       "  <thead>\n",
       "    <tr style=\"text-align: right;\">\n",
       "      <th></th>\n",
       "      <th>performance_60d9m_ever</th>\n",
       "    </tr>\n",
       "  </thead>\n",
       "  <tbody>\n",
       "    <tr>\n",
       "      <th>BOM</th>\n",
       "      <td>0.766647</td>\n",
       "    </tr>\n",
       "    <tr>\n",
       "      <th>MAU</th>\n",
       "      <td>0.233353</td>\n",
       "    </tr>\n",
       "  </tbody>\n",
       "</table>\n",
       "</div>"
      ],
      "text/plain": [
       "     performance_60d9m_ever\n",
       "BOM                0.766647\n",
       "MAU                0.233353"
      ]
     },
     "execution_count": 11,
     "metadata": {},
     "output_type": "execute_result"
    },
    {
     "data": {
      "image/png": "[encoded data removed]",
      "text/plain": [
       "<Figure size 432x288 with 1 Axes>"
      ]
     },
     "metadata": {},
     "output_type": "display_data"
    }
   ],
   "source": [
    "ax = sns.countplot(data=data, x='performance_60d9m_ever', order=data['performance_60d9m_ever'].value_counts().index)\n",
    "for p in ax.patches:\n",
    "    ax.annotate(f'{p.get_height()}', (p.get_x() + p.get_width() / 2., p.get_height()), ha='center', va='top', xytext=(0, 10), textcoords='offset points')\n",
    "plt.xlabel('Performance 60D9M EVER')\n",
    "plt.ylabel('Número de Clientes')\n",
    "plt.title('Contagem de Clientes por Performance 60D9M EVER');\n",
    "data.performance_60d9m_ever.value_counts(normalize=True).to_frame()"
   ]
  },
  {
   "cell_type": "code",
   "execution_count": 12,
   "metadata": {},
   "outputs": [
    {
     "data": {
      "text/html": [
       "<div>\n",
       "<style scoped>\n",
       "    .dataframe tbody tr th:only-of-type {\n",
       "        vertical-align: middle;\n",
       "    }\n",
       "\n",
       "    .dataframe tbody tr th {\n",
       "        vertical-align: top;\n",
       "    }\n",
       "\n",
       "    .dataframe thead th {\n",
       "        text-align: right;\n",
       "    }\n",
       "</style>\n",
       "<table border=\"1\" class=\"dataframe\">\n",
       "  <thead>\n",
       "    <tr style=\"text-align: right;\">\n",
       "      <th></th>\n",
       "      <th>performance_90d9m_ever</th>\n",
       "    </tr>\n",
       "  </thead>\n",
       "  <tbody>\n",
       "    <tr>\n",
       "      <th>BOM</th>\n",
       "      <td>0.812238</td>\n",
       "    </tr>\n",
       "    <tr>\n",
       "      <th>MAU</th>\n",
       "      <td>0.187762</td>\n",
       "    </tr>\n",
       "  </tbody>\n",
       "</table>\n",
       "</div>"
      ],
      "text/plain": [
       "     performance_90d9m_ever\n",
       "BOM                0.812238\n",
       "MAU                0.187762"
      ]
     },
     "execution_count": 12,
     "metadata": {},
     "output_type": "execute_result"
    },
    {
     "data": {
      "image/png": "[encoded data removed]",
      "text/plain": [
       "<Figure size 432x288 with 1 Axes>"
      ]
     },
     "metadata": {},
     "output_type": "display_data"
    }
   ],
   "source": [
    "ax = sns.countplot(data=data, x='performance_90d9m_ever', order=data['performance_90d9m_ever'].value_counts().index)\n",
    "for p in ax.patches:\n",
    "    ax.annotate(f'{p.get_height()}', (p.get_x() + p.get_width() / 2., p.get_height()), ha='center', va='top', xytext=(0, 10), textcoords='offset points')\n",
    "plt.xlabel('Performance 90D9M EVER')\n",
    "plt.ylabel('Número de Clientes')\n",
    "plt.title('Contagem de Clientes por Performance 90D9M EVER');\n",
    "data.performance_90d9m_ever.value_counts(normalize=True).to_frame()"
   ]
  },
  {
   "cell_type": "code",
   "execution_count": 13,
   "metadata": {},
   "outputs": [
    {
     "data": {
      "text/html": [
       "<div>\n",
       "<style scoped>\n",
       "    .dataframe tbody tr th:only-of-type {\n",
       "        vertical-align: middle;\n",
       "    }\n",
       "\n",
       "    .dataframe tbody tr th {\n",
       "        vertical-align: top;\n",
       "    }\n",
       "\n",
       "    .dataframe thead th {\n",
       "        text-align: right;\n",
       "    }\n",
       "</style>\n",
       "<table border=\"1\" class=\"dataframe\">\n",
       "  <thead>\n",
       "    <tr style=\"text-align: right;\">\n",
       "      <th></th>\n",
       "      <th>performance_90d12m_ever</th>\n",
       "    </tr>\n",
       "  </thead>\n",
       "  <tbody>\n",
       "    <tr>\n",
       "      <th>BOM</th>\n",
       "      <td>0.762671</td>\n",
       "    </tr>\n",
       "    <tr>\n",
       "      <th>MAU</th>\n",
       "      <td>0.237329</td>\n",
       "    </tr>\n",
       "  </tbody>\n",
       "</table>\n",
       "</div>"
      ],
      "text/plain": [
       "     performance_90d12m_ever\n",
       "BOM                 0.762671\n",
       "MAU                 0.237329"
      ]
     },
     "execution_count": 13,
     "metadata": {},
     "output_type": "execute_result"
    },
    {
     "data": {
      "image/png": "[encoded data removed]",
      "text/plain": [
       "<Figure size 432x288 with 1 Axes>"
      ]
     },
     "metadata": {},
     "output_type": "display_data"
    }
   ],
   "source": [
    "ax = sns.countplot(data=data, x='performance_90d12m_ever', order=data['performance_90d12m_ever'].value_counts().index)\n",
    "for p in ax.patches:\n",
    "    ax.annotate(f'{p.get_height()}', (p.get_x() + p.get_width() / 2., p.get_height()), ha='center', va='top', xytext=(0, 10), textcoords='offset points')\n",
    "plt.xlabel('Performance 90D12M EVER')\n",
    "plt.ylabel('Número de Clientes')\n",
    "plt.title('Contagem de Clientes por Performance 90D12M EVER');\n",
    "data.performance_90d12m_ever.value_counts(normalize=True).to_frame()"
   ]
  },
  {
   "cell_type": "code",
   "execution_count": 14,
   "metadata": {},
   "outputs": [],
   "source": [
    "target = 'performance_60d9m_ever'\n",
    "cols = ['n_do_cliente', 'modelo_score_1', 'modelo_score_2', 'modelo_score_3', 'modelo_score_4', 'performance_30d3m_ever', 'performance_60d6m_ever', 'performance_90d9m_ever', 'performance_90d12m_ever']\n",
    "data = data.drop(cols, axis=1).dropna(subset=[target],)"
   ]
  },
  {
   "cell_type": "markdown",
   "metadata": {},
   "source": [
    "### Safra\n",
    "Número de safras das quais, no período, se originaram os clientes aprovados. Um período de 6 meses no ano de 2020. O campo pode ser convertido para um inteiro ou nome do mês. Observa-se que houve um aumento no indicador de inadimplência no mês de agosto."
   ]
  },
  {
   "cell_type": "code",
   "execution_count": 15,
   "metadata": {},
   "outputs": [],
   "source": [
    "data.safra = data.safra.map(lambda x: x[5:7])"
   ]
  },
  {
   "cell_type": "code",
   "execution_count": 16,
   "metadata": {},
   "outputs": [],
   "source": [
    "hue_order = data.performance_60d9m_ever.value_counts().index # Para ordenar os valores de cor nos gráficos"
   ]
  },
  {
   "cell_type": "code",
   "execution_count": 17,
   "metadata": {},
   "outputs": [
    {
     "data": {
      "image/png": "[encoded data removed]",
      "text/plain": [
       "<Figure size 432x288 with 1 Axes>"
      ]
     },
     "metadata": {},
     "output_type": "display_data"
    }
   ],
   "source": [
    "ax = sns.countplot(data=data, x='safra', order=data['safra'].value_counts().index.sort_values(), hue=target, hue_order=hue_order)\n",
    "# Annotate the plot\n",
    "for p in ax.patches:\n",
    "    ax.annotate(f'{p.get_height()}', (p.get_x() + p.get_width() / 2., p.get_height()), ha='center', va='top', xytext=(0, 10), textcoords='offset points')\n",
    "plt.xticks(rotation=90)\n",
    "plt.legend(loc='upper left', bbox_to_anchor=(1, 1))\n",
    "plt.xlabel('Safra')\n",
    "plt.ylabel('Número de Clientes')\n",
    "plt.title('Número de clientes por Safra');"
   ]
  },
  {
   "cell_type": "markdown",
   "metadata": {},
   "source": [
    "### Estado\n",
    "São evidenciados os estados e região com maior concentração de clientes, podendo receber mais investimento na manutenção do relacionamento com os clientes. Por outro lado os estados com pouca atividade poderiam receber investimentos focados na captação de bons clientes, principalmente nas regiões Norte e Nordeste -- uma possibilidade de expansão. "
   ]
  },
  {
   "cell_type": "code",
   "execution_count": 18,
   "metadata": {},
   "outputs": [
    {
     "data": {
      "image/png": "[encoded data removed]",
      "text/plain": [
       "<Figure size 432x288 with 1 Axes>"
      ]
     },
     "metadata": {},
     "output_type": "display_data"
    }
   ],
   "source": [
    "ax = sns.countplot(data=data, x='estado', order=data['estado'].value_counts().index, hue=target, hue_order=hue_order)\n",
    "plt.legend(loc='upper left', bbox_to_anchor=(1, 1))\n",
    "# Annotate the plot\n",
    "for p in ax.patches:\n",
    "    ax.annotate(f'{p.get_height()}', (p.get_x() + p.get_width() / 2., p.get_height()), ha='center', va='top', xytext=(0, 10), textcoords='offset points')\n",
    "# plt.xticks(rotation=90)\n",
    "plt.xlabel('Estado')\n",
    "plt.ylabel('Número de Clientes')\n",
    "plt.title('Número de Clientes por Estado');"
   ]
  },
  {
   "cell_type": "code",
   "execution_count": 19,
   "metadata": {},
   "outputs": [],
   "source": [
    "# agrupar estados por região\n",
    "def regiao_estado(estado):\n",
    "    uf_sul = ['RS', 'SC', 'PR']\n",
    "    uf_sudeste = ['ES', 'RJ', 'SP', 'MG']\n",
    "    uf_centro_oeste = ['GO', 'DF', 'MT', 'MS']\n",
    "    uf_norte = ['AC', 'AM', 'PA', 'AP', 'RO', 'RR', 'TO']\n",
    "\n",
    "    if estado in uf_sul:\n",
    "        return 'Sul'\n",
    "    elif estado in uf_sudeste:\n",
    "        return 'Sudeste'\n",
    "    elif estado in uf_centro_oeste:\n",
    "        return 'Centro-Oeste'\n",
    "    elif estado in uf_norte:\n",
    "        return 'Norte'\n",
    "    else:\n",
    "        return 'Nordeste'\n",
    "\n",
    "data['regiao'] = data.estado.map(regiao_estado)"
   ]
  },
  {
   "cell_type": "code",
   "execution_count": 20,
   "metadata": {},
   "outputs": [
    {
     "data": {
      "image/png": "[encoded data removed]",
      "text/plain": [
       "<Figure size 432x288 with 1 Axes>"
      ]
     },
     "metadata": {},
     "output_type": "display_data"
    }
   ],
   "source": [
    "ax = sns.countplot(data=data, x='regiao', order=data['regiao'].value_counts().index, hue=target, hue_order=hue_order)\n",
    "plt.legend(loc='upper left', bbox_to_anchor=(1, 1))\n",
    "# Annotate the plot\n",
    "for p in ax.patches:\n",
    "    ax.annotate(f'{p.get_height()}', (p.get_x() + p.get_width() / 2., p.get_height()), ha='center', va='top', xytext=(0, 10), textcoords='offset points')\n",
    "# plt.xticks(rotation=90)\n",
    "plt.xlabel('Região')\n",
    "plt.ylabel('Número de Clientes')\n",
    "plt.title('Número de clientes por Região');"
   ]
  },
  {
   "cell_type": "code",
   "execution_count": 21,
   "metadata": {},
   "outputs": [
    {
     "data": {
      "image/png": "[encoded data removed]",
      "text/plain": [
       "<Figure size 1440x360 with 5 Axes>"
      ]
     },
     "metadata": {},
     "output_type": "display_data"
    }
   ],
   "source": [
    "fig, ax = plt.subplots(nrows=1, ncols=5, figsize=(20, 5))\n",
    "for i, regiao in enumerate(data.regiao.unique()):\n",
    "    data_regiao = data[data.regiao == regiao]\n",
    "    ax[i].pie(data_regiao.performance_60d9m_ever.value_counts(), labels=data_regiao.performance_60d9m_ever.value_counts().index, autopct='%1.1f%%')\n",
    "    ax[i].set_title(regiao)"
   ]
  },
  {
   "cell_type": "markdown",
   "metadata": {},
   "source": [
    "### Renda Mensal\n",
    "Na descrição das medidas de tendência central e no histograma observam-se que a renda mensal é um atributo que pode ser afetado pela magnitude de poucos pontos aberrantes."
   ]
  },
  {
   "cell_type": "code",
   "execution_count": 22,
   "metadata": {},
   "outputs": [
    {
     "data": {
      "text/html": [
       "<div>\n",
       "<style scoped>\n",
       "    .dataframe tbody tr th:only-of-type {\n",
       "        vertical-align: middle;\n",
       "    }\n",
       "\n",
       "    .dataframe tbody tr th {\n",
       "        vertical-align: top;\n",
       "    }\n",
       "\n",
       "    .dataframe thead th {\n",
       "        text-align: right;\n",
       "    }\n",
       "</style>\n",
       "<table border=\"1\" class=\"dataframe\">\n",
       "  <thead>\n",
       "    <tr style=\"text-align: right;\">\n",
       "      <th></th>\n",
       "      <th>renda_mensal</th>\n",
       "    </tr>\n",
       "  </thead>\n",
       "  <tbody>\n",
       "    <tr>\n",
       "      <th>count</th>\n",
       "      <td>8335.000000</td>\n",
       "    </tr>\n",
       "    <tr>\n",
       "      <th>mean</th>\n",
       "      <td>2774.036113</td>\n",
       "    </tr>\n",
       "    <tr>\n",
       "      <th>std</th>\n",
       "      <td>1488.845874</td>\n",
       "    </tr>\n",
       "    <tr>\n",
       "      <th>min</th>\n",
       "      <td>1041.000000</td>\n",
       "    </tr>\n",
       "    <tr>\n",
       "      <th>25%</th>\n",
       "      <td>1403.000000</td>\n",
       "    </tr>\n",
       "    <tr>\n",
       "      <th>50%</th>\n",
       "      <td>3310.000000</td>\n",
       "    </tr>\n",
       "    <tr>\n",
       "      <th>75%</th>\n",
       "      <td>3492.000000</td>\n",
       "    </tr>\n",
       "    <tr>\n",
       "      <th>max</th>\n",
       "      <td>33564.000000</td>\n",
       "    </tr>\n",
       "  </tbody>\n",
       "</table>\n",
       "</div>"
      ],
      "text/plain": [
       "       renda_mensal\n",
       "count   8335.000000\n",
       "mean    2774.036113\n",
       "std     1488.845874\n",
       "min     1041.000000\n",
       "25%     1403.000000\n",
       "50%     3310.000000\n",
       "75%     3492.000000\n",
       "max    33564.000000"
      ]
     },
     "execution_count": 22,
     "metadata": {},
     "output_type": "execute_result"
    }
   ],
   "source": [
    "data.renda_mensal.describe().to_frame()"
   ]
  },
  {
   "cell_type": "code",
   "execution_count": 23,
   "metadata": {},
   "outputs": [
    {
     "name": "stdout",
     "output_type": "stream",
     "text": [
      "4.236705914893795\n"
     ]
    },
    {
     "data": {
      "image/png": "[encoded data removed]",
      "text/plain": [
       "<Figure size 432x288 with 1 Axes>"
      ]
     },
     "metadata": {},
     "output_type": "display_data"
    }
   ],
   "source": [
    "sns.histplot(data=data, x='renda_mensal')\n",
    "plt.xlabel('Renda Mensal')\n",
    "plt.ylabel('Número de Clientes')\n",
    "plt.title('Número de Clientes por Renda Mensal');\n",
    "print(data.renda_mensal.skew())"
   ]
  },
  {
   "cell_type": "code",
   "execution_count": 24,
   "metadata": {},
   "outputs": [
    {
     "data": {
      "image/png": "[encoded data removed]",
      "text/plain": [
       "<Figure size 432x288 with 1 Axes>"
      ]
     },
     "metadata": {},
     "output_type": "display_data"
    }
   ],
   "source": [
    "sns.boxplot(x=data['renda_mensal'])\n",
    "plt.xlabel('Renda Mensal')\n",
    "plt.title('Boxplot da Renda Mensal');"
   ]
  },
  {
   "cell_type": "code",
   "execution_count": 25,
   "metadata": {},
   "outputs": [
    {
     "data": {
      "image/png": "[encoded data removed]",
      "text/plain": [
       "<Figure size 432x288 with 1 Axes>"
      ]
     },
     "metadata": {},
     "output_type": "display_data"
    }
   ],
   "source": [
    "sns.boxplot(data=data, x='renda_mensal', y=target, order=hue_order)\n",
    "plt.xlabel('Renda Mensal')\n",
    "plt.ylabel('Performance 60D9M EVER')\n",
    "plt.title('Boxplot da Renda Mensal por Performance 60D9M EVER');"
   ]
  },
  {
   "cell_type": "markdown",
   "metadata": {},
   "source": [
    "Aqui um tratamento pode ser necessário para a Renda Mensal ao observar o histograma com uma assimetria positiva de 4.27. Existem poucos valores distribuidos pela cauda positiva do histograma. A boxplot reforça a presença de outliers na coluna."
   ]
  },
  {
   "cell_type": "code",
   "execution_count": 26,
   "metadata": {},
   "outputs": [],
   "source": [
    "def iqr_filter(data:pd.DataFrame, col:str) -> list[bool]:\n",
    "    \"\"\"iqr_filter\n",
    "        Função para gerar um filtro dos dados de uma coluna com base no IQR\n",
    "    Args:\n",
    "        data (pd.DataFrame): DataFrame com os dados\n",
    "        col (str): Coluna a ser filtrada\n",
    "\n",
    "    Returns:\n",
    "        list[bool]: Um array de booleanos que pode selecionar os valores que estão dentro do intervalo de interquartil\n",
    "    \"\"\"\n",
    "    Q1 = data[col].quantile(0.25)\n",
    "    Q3 = data[col].quantile(0.75)\n",
    "    IQR = Q3 - Q1\n",
    "    return (data[col] >= Q1 - 1.5 * IQR) & (data[col] <= Q3 + 1.5 * IQR)"
   ]
  },
  {
   "cell_type": "code",
   "execution_count": 27,
   "metadata": {},
   "outputs": [
    {
     "name": "stdout",
     "output_type": "stream",
     "text": [
      "0.9920815836832634 0.007918416316736652\n",
      "8269 66\n"
     ]
    }
   ],
   "source": [
    "outliers = data[~iqr_filter(data, 'renda_mensal')]\n",
    "inliers = data[iqr_filter(data, 'renda_mensal')]\n",
    "\n",
    "print(inliers.__len__()/data.__len__(), outliers.__len__()/data.__len__()) # Proporção de inliers/outliers\n",
    "print(inliers.__len__(), outliers.__len__()) # Número de inliers/outliers"
   ]
  },
  {
   "cell_type": "markdown",
   "metadata": {},
   "source": [
    "Com a análise acima, pode-se observar que os outliers representam >0.01% das instâncias. O tratamento a ser feito aqui é remover os outliers, que estão em pequena quantidade."
   ]
  },
  {
   "cell_type": "code",
   "execution_count": 28,
   "metadata": {},
   "outputs": [],
   "source": [
    "data = data[iqr_filter(data, 'renda_mensal')]"
   ]
  },
  {
   "cell_type": "code",
   "execution_count": 29,
   "metadata": {},
   "outputs": [
    {
     "data": {
      "text/html": [
       "<div>\n",
       "<style scoped>\n",
       "    .dataframe tbody tr th:only-of-type {\n",
       "        vertical-align: middle;\n",
       "    }\n",
       "\n",
       "    .dataframe tbody tr th {\n",
       "        vertical-align: top;\n",
       "    }\n",
       "\n",
       "    .dataframe thead th {\n",
       "        text-align: right;\n",
       "    }\n",
       "</style>\n",
       "<table border=\"1\" class=\"dataframe\">\n",
       "  <thead>\n",
       "    <tr style=\"text-align: right;\">\n",
       "      <th></th>\n",
       "      <th>renda_mensal</th>\n",
       "    </tr>\n",
       "  </thead>\n",
       "  <tbody>\n",
       "    <tr>\n",
       "      <th>count</th>\n",
       "      <td>8269.000000</td>\n",
       "    </tr>\n",
       "    <tr>\n",
       "      <th>mean</th>\n",
       "      <td>2705.447938</td>\n",
       "    </tr>\n",
       "    <tr>\n",
       "      <th>std</th>\n",
       "      <td>1183.438075</td>\n",
       "    </tr>\n",
       "    <tr>\n",
       "      <th>min</th>\n",
       "      <td>1041.000000</td>\n",
       "    </tr>\n",
       "    <tr>\n",
       "      <th>25%</th>\n",
       "      <td>1399.000000</td>\n",
       "    </tr>\n",
       "    <tr>\n",
       "      <th>50%</th>\n",
       "      <td>3305.000000</td>\n",
       "    </tr>\n",
       "    <tr>\n",
       "      <th>75%</th>\n",
       "      <td>3492.000000</td>\n",
       "    </tr>\n",
       "    <tr>\n",
       "      <th>max</th>\n",
       "      <td>6613.000000</td>\n",
       "    </tr>\n",
       "  </tbody>\n",
       "</table>\n",
       "</div>"
      ],
      "text/plain": [
       "       renda_mensal\n",
       "count   8269.000000\n",
       "mean    2705.447938\n",
       "std     1183.438075\n",
       "min     1041.000000\n",
       "25%     1399.000000\n",
       "50%     3305.000000\n",
       "75%     3492.000000\n",
       "max     6613.000000"
      ]
     },
     "execution_count": 29,
     "metadata": {},
     "output_type": "execute_result"
    }
   ],
   "source": [
    "data.renda_mensal.describe().to_frame()"
   ]
  },
  {
   "cell_type": "code",
   "execution_count": 30,
   "metadata": {},
   "outputs": [
    {
     "name": "stdout",
     "output_type": "stream",
     "text": [
      "-0.04208923010832355\n"
     ]
    },
    {
     "data": {
      "image/png": "[encoded data removed]",
      "text/plain": [
       "<Figure size 432x288 with 1 Axes>"
      ]
     },
     "metadata": {},
     "output_type": "display_data"
    }
   ],
   "source": [
    "sns.histplot(data=data, x='renda_mensal', kde=True)\n",
    "plt.xlabel('Renda Mensal')\n",
    "plt.ylabel('Número de Clientes')\n",
    "plt.title('Número de Clientes por Renda Mensal');\n",
    "print(data.renda_mensal.skew())"
   ]
  },
  {
   "cell_type": "code",
   "execution_count": 31,
   "metadata": {},
   "outputs": [
    {
     "data": {
      "image/png": "[encoded data removed]",
      "text/plain": [
       "<Figure size 432x288 with 1 Axes>"
      ]
     },
     "metadata": {},
     "output_type": "display_data"
    }
   ],
   "source": [
    "sns.boxplot(data=data, x='renda_mensal', y=target, order=hue_order)\n",
    "plt.xlabel('Renda Mensal')\n",
    "plt.ylabel('Performance 60D9M EVER')\n",
    "plt.title('Boxplot da Renda Mensal por Performance 60D9M EVER');"
   ]
  },
  {
   "cell_type": "markdown",
   "metadata": {},
   "source": [
    "A remoção dos pontos aberrantes trouxe melhoras para a visualização dos gráficos e para o entendimento da variável Renda Mensal -- ela não segue uma distribuição nomal. No entanto, a distribuição dos valores de renda para as duas categorias é muito semelhante --  a mediana das duas distribuições é praticamente a mesma, mas o máximo dos clientes em MAU é menor que os de clientes em BOM. Calcula-se, então, a correlação se Spearman entre essas variáveis:"
   ]
  },
  {
   "cell_type": "code",
   "execution_count": 32,
   "metadata": {},
   "outputs": [],
   "source": [
    "# Transformar a variável resposta um valor numérico\n",
    "data['target'] = pd.get_dummies(data.performance_60d9m_ever)['MAU'] # 1 = MAU, 0 = BOM"
   ]
  },
  {
   "cell_type": "code",
   "execution_count": 33,
   "metadata": {},
   "outputs": [
    {
     "data": {
      "text/plain": [
       "SpearmanrResult(correlation=0.0321995917397272, pvalue=0.0034076001696093493)"
      ]
     },
     "execution_count": 33,
     "metadata": {},
     "output_type": "execute_result"
    }
   ],
   "source": [
    "st.spearmanr(data.renda_mensal, data.target)"
   ]
  },
  {
   "cell_type": "markdown",
   "metadata": {},
   "source": [
    "Pode então se concluir que a correlação entre Renda Mensal e a Performance é positiva e fraca, seguindo o comportamento entre as distribuições no boxplot."
   ]
  },
  {
   "cell_type": "markdown",
   "metadata": {},
   "source": [
    "### Endividamento"
   ]
  },
  {
   "cell_type": "code",
   "execution_count": 34,
   "metadata": {},
   "outputs": [
    {
     "data": {
      "text/html": [
       "<div>\n",
       "<style scoped>\n",
       "    .dataframe tbody tr th:only-of-type {\n",
       "        vertical-align: middle;\n",
       "    }\n",
       "\n",
       "    .dataframe tbody tr th {\n",
       "        vertical-align: top;\n",
       "    }\n",
       "\n",
       "    .dataframe thead th {\n",
       "        text-align: right;\n",
       "    }\n",
       "</style>\n",
       "<table border=\"1\" class=\"dataframe\">\n",
       "  <thead>\n",
       "    <tr style=\"text-align: right;\">\n",
       "      <th></th>\n",
       "      <th>endividamento</th>\n",
       "    </tr>\n",
       "  </thead>\n",
       "  <tbody>\n",
       "    <tr>\n",
       "      <th>Até 25%</th>\n",
       "      <td>0.783892</td>\n",
       "    </tr>\n",
       "    <tr>\n",
       "      <th>Acima de 100%</th>\n",
       "      <td>0.124683</td>\n",
       "    </tr>\n",
       "    <tr>\n",
       "      <th>26 a 50%</th>\n",
       "      <td>0.042931</td>\n",
       "    </tr>\n",
       "    <tr>\n",
       "      <th>51 a 75%</th>\n",
       "      <td>0.029024</td>\n",
       "    </tr>\n",
       "    <tr>\n",
       "      <th>76 a 100%</th>\n",
       "      <td>0.019470</td>\n",
       "    </tr>\n",
       "  </tbody>\n",
       "</table>\n",
       "</div>"
      ],
      "text/plain": [
       "               endividamento\n",
       "Até 25%             0.783892\n",
       "Acima de 100%       0.124683\n",
       "26 a 50%            0.042931\n",
       "51 a 75%            0.029024\n",
       "76 a 100%           0.019470"
      ]
     },
     "execution_count": 34,
     "metadata": {},
     "output_type": "execute_result"
    }
   ],
   "source": [
    "data.endividamento.value_counts(normalize=True).to_frame()"
   ]
  },
  {
   "cell_type": "code",
   "execution_count": 35,
   "metadata": {},
   "outputs": [],
   "source": [
    "# Transformar endividamento\n",
    "data.endividamento = data.endividamento.map({'26 a 50%':'até 50%', 'Acima de 100%':'mais de 100%', 'Até 25%': 'até 25%', '51 a 75%': 'até 75%', '76 a 100%': 'até 100%'})"
   ]
  },
  {
   "cell_type": "code",
   "execution_count": 36,
   "metadata": {},
   "outputs": [
    {
     "data": {
      "image/png": "[encoded data removed]",
      "text/plain": [
       "<Figure size 432x288 with 1 Axes>"
      ]
     },
     "metadata": {},
     "output_type": "display_data"
    }
   ],
   "source": [
    "ax = sns.countplot(x='endividamento', data=data, order=['até 25%', 'até 50%', 'até 75%', 'até 100%', 'mais de 100%'], hue=target, hue_order=hue_order) # A taxa de endividamento se encontra nos extremos da base\n",
    "plt.legend(loc='upper left', bbox_to_anchor=(1, 1))\n",
    "# Annotate the plot\n",
    "for p in ax.patches:\n",
    "    ax.annotate(f'{p.get_height()}', (p.get_x() + p.get_width() / 2., p.get_height()), ha='center', va='top', xytext=(0, 10), textcoords='offset points')\n",
    "# plt.xticks(rotation=90)\n",
    "plt.xlabel('Taxa de Endividamento')\n",
    "plt.ylabel('Número de Clientes')\n",
    "plt.title('Número de Clientes por Taxa de Endividamento');"
   ]
  },
  {
   "cell_type": "code",
   "execution_count": 37,
   "metadata": {},
   "outputs": [
    {
     "data": {
      "image/png": "[encoded data removed]",
      "text/plain": [
       "<Figure size 432x288 with 1 Axes>"
      ]
     },
     "metadata": {},
     "output_type": "display_data"
    }
   ],
   "source": [
    "sns.violinplot(data=data, x='endividamento', y='renda_mensal', hue=target, order=['até 25%', 'até 50%', 'até 75%', 'até 100%', 'mais de 100%'], hue_order=hue_order)\n",
    "plt.legend(loc='upper left', bbox_to_anchor=(1, 1))\n",
    "plt.xlabel('Taxa de Endividamento')\n",
    "plt.ylabel('Renda Mensal')\n",
    "plt.title('Violinplot da Taxa de Endividamento por Renda Mensal');"
   ]
  },
  {
   "cell_type": "markdown",
   "metadata": {},
   "source": [
    "Inicialmente se observa que a maior parte dos clientes se encontram com até 25% ou mais que 100% da renda comprometida e que a distribuição da renda mensal é muito semelhante em todas as faixas de endividamento. Para melhorar a análise, calcula-se a renda mensal livre e a renda mensal comprometida."
   ]
  },
  {
   "cell_type": "code",
   "execution_count": 38,
   "metadata": {},
   "outputs": [],
   "source": [
    "map_endividamento_max = data.endividamento.map({'até 50%': .50, 'mais de 100%': 1.00, 'até 25%': .25, 'até 75%': .75, 'até 100%': 1.00})\n",
    "data['renda_livre'] = data.renda_mensal - (data.renda_mensal * map_endividamento_max)\n",
    "data['renda_comprometida'] = data.renda_mensal * map_endividamento_max"
   ]
  },
  {
   "cell_type": "code",
   "execution_count": 39,
   "metadata": {},
   "outputs": [
    {
     "data": {
      "image/png": "[encoded data removed]",
      "text/plain": [
       "<Figure size 432x288 with 1 Axes>"
      ]
     },
     "metadata": {},
     "output_type": "display_data"
    }
   ],
   "source": [
    "sns.boxplot(data=data, x='renda_livre')\n",
    "plt.xlabel('Renda Mensal Livre')\n",
    "plt.title('Boxplot da Renda Mensal Livre');"
   ]
  },
  {
   "cell_type": "code",
   "execution_count": 40,
   "metadata": {},
   "outputs": [
    {
     "data": {
      "image/png": "[encoded data removed]",
      "text/plain": [
       "<Figure size 432x288 with 1 Axes>"
      ]
     },
     "metadata": {},
     "output_type": "display_data"
    }
   ],
   "source": [
    "sns.boxplot(data=data, x='renda_comprometida')\n",
    "plt.xlabel('Renda Mensal Comprometida')\n",
    "plt.title('Boxplot da Renda Mensal Comprometida');"
   ]
  },
  {
   "cell_type": "markdown",
   "metadata": {},
   "source": [
    "Nenhuma das distribuições segue uma distribuição normal, portanto, calcula-se a correlação se Spearman entre essas variáveis. Ainda, observa-se uma quantidade significativa de outliers na renda mensal comprometida."
   ]
  },
  {
   "cell_type": "code",
   "execution_count": 41,
   "metadata": {},
   "outputs": [
    {
     "name": "stdout",
     "output_type": "stream",
     "text": [
      "Correlação entre Renda Mensal Livre e Performance SpearmanrResult(correlation=-0.11124817496744312, pvalue=3.4443293511182376e-24)\n",
      "Correlação entre Renda Mensal Comprometida e Performance SpearmanrResult(correlation=0.14660349497909775, pvalue=5.909412344239154e-41)\n"
     ]
    }
   ],
   "source": [
    "print(f'Correlação entre Renda Mensal Livre e Performance {st.spearmanr(data.renda_livre, data.target)}')\n",
    "print(f'Correlação entre Renda Mensal Comprometida e Performance {st.spearmanr(data.renda_comprometida, data.target)}')"
   ]
  },
  {
   "cell_type": "markdown",
   "metadata": {},
   "source": [
    "A correlação entre as variáveis Renda Mensal Comprometida é positiva, seguindo o esperado pelo senso comum. A correlação entre renda livre também segue a direção esperada."
   ]
  },
  {
   "cell_type": "code",
   "execution_count": 42,
   "metadata": {},
   "outputs": [
    {
     "data": {
      "image/png": "[encoded data removed]",
      "text/plain": [
       "<Figure size 432x288 with 1 Axes>"
      ]
     },
     "metadata": {},
     "output_type": "display_data"
    }
   ],
   "source": [
    "sns.boxplot(data=data, x='renda_livre', y=target, order=hue_order)\n",
    "plt.xlabel('Renda Mensal Livre')\n",
    "plt.ylabel('Performance 60D9M EVER')\n",
    "plt.title('Boxplot da Renda Mensal Livre por Performance 60D9M EVER');"
   ]
  },
  {
   "cell_type": "code",
   "execution_count": 43,
   "metadata": {},
   "outputs": [
    {
     "data": {
      "image/png": "[encoded data removed]",
      "text/plain": [
       "<Figure size 432x288 with 1 Axes>"
      ]
     },
     "metadata": {},
     "output_type": "display_data"
    }
   ],
   "source": [
    "sns.boxplot(data=data, x='renda_comprometida', y=target, order=hue_order)\n",
    "plt.xlabel('Renda Mensal Comprometida')\n",
    "plt.ylabel('Performance 60D9M EVER')\n",
    "plt.title('Boxplot da Renda Mensal Comprometida por Performance 60D9M EVER');"
   ]
  },
  {
   "cell_type": "code",
   "execution_count": 44,
   "metadata": {},
   "outputs": [
    {
     "data": {
      "text/plain": [
       "942"
      ]
     },
     "execution_count": 44,
     "metadata": {},
     "output_type": "execute_result"
    }
   ],
   "source": [
    "# Quantidade de outliers em renda comprometida\n",
    "(~iqr_filter(data, 'renda_comprometida')).sum()"
   ]
  },
  {
   "cell_type": "markdown",
   "metadata": {},
   "source": [
    "Quanto aos outliers, nenhum tratamento será feito por se tratarem de uma grande quantidade de dados comparada a quantidade total da base. Outro fator é a inexistência de outliers em renda mensal livre, que pode ser usada no lugar da renda mensal comprometida sem tratamento de outliers."
   ]
  },
  {
   "cell_type": "code",
   "execution_count": 45,
   "metadata": {},
   "outputs": [
    {
     "data": {
      "image/png": "[encoded data removed]",
      "text/plain": [
       "<Figure size 432x288 with 1 Axes>"
      ]
     },
     "metadata": {},
     "output_type": "display_data"
    }
   ],
   "source": [
    "sns.boxplot(data=data, x='endividamento', y='renda_livre', hue=target, order=['até 25%', 'até 50%', 'até 75%', 'até 100%', 'mais de 100%'], hue_order=hue_order)\n",
    "plt.legend(loc='upper left', bbox_to_anchor=(1, 1))\n",
    "plt.xlabel('Taxa de Endividamento')\n",
    "plt.ylabel('Renda Mensal Livre')\n",
    "plt.title('Boxplot da Taxa de Endividamento por Renda Mensal Livre');"
   ]
  },
  {
   "cell_type": "markdown",
   "metadata": {},
   "source": [
    "### Quantidade de Cheques Sem Fundo"
   ]
  },
  {
   "cell_type": "code",
   "execution_count": 46,
   "metadata": {},
   "outputs": [
    {
     "data": {
      "text/html": [
       "<div>\n",
       "<style scoped>\n",
       "    .dataframe tbody tr th:only-of-type {\n",
       "        vertical-align: middle;\n",
       "    }\n",
       "\n",
       "    .dataframe tbody tr th {\n",
       "        vertical-align: top;\n",
       "    }\n",
       "\n",
       "    .dataframe thead th {\n",
       "        text-align: right;\n",
       "    }\n",
       "</style>\n",
       "<table border=\"1\" class=\"dataframe\">\n",
       "  <thead>\n",
       "    <tr style=\"text-align: right;\">\n",
       "      <th></th>\n",
       "      <th>quantidade_de_cheques_sem_fundo</th>\n",
       "    </tr>\n",
       "  </thead>\n",
       "  <tbody>\n",
       "    <tr>\n",
       "      <th>count</th>\n",
       "      <td>8269.000000</td>\n",
       "    </tr>\n",
       "    <tr>\n",
       "      <th>mean</th>\n",
       "      <td>0.167372</td>\n",
       "    </tr>\n",
       "    <tr>\n",
       "      <th>std</th>\n",
       "      <td>1.566474</td>\n",
       "    </tr>\n",
       "    <tr>\n",
       "      <th>min</th>\n",
       "      <td>0.000000</td>\n",
       "    </tr>\n",
       "    <tr>\n",
       "      <th>25%</th>\n",
       "      <td>0.000000</td>\n",
       "    </tr>\n",
       "    <tr>\n",
       "      <th>50%</th>\n",
       "      <td>0.000000</td>\n",
       "    </tr>\n",
       "    <tr>\n",
       "      <th>75%</th>\n",
       "      <td>0.000000</td>\n",
       "    </tr>\n",
       "    <tr>\n",
       "      <th>max</th>\n",
       "      <td>64.000000</td>\n",
       "    </tr>\n",
       "  </tbody>\n",
       "</table>\n",
       "</div>"
      ],
      "text/plain": [
       "       quantidade_de_cheques_sem_fundo\n",
       "count                      8269.000000\n",
       "mean                          0.167372\n",
       "std                           1.566474\n",
       "min                           0.000000\n",
       "25%                           0.000000\n",
       "50%                           0.000000\n",
       "75%                           0.000000\n",
       "max                          64.000000"
      ]
     },
     "execution_count": 46,
     "metadata": {},
     "output_type": "execute_result"
    }
   ],
   "source": [
    "data.quantidade_de_cheques_sem_fundo.describe().to_frame()"
   ]
  },
  {
   "cell_type": "code",
   "execution_count": 47,
   "metadata": {},
   "outputs": [
    {
     "data": {
      "text/plain": [
       "<AxesSubplot:xlabel='quantidade_de_cheques_sem_fundo', ylabel='Count'>"
      ]
     },
     "execution_count": 47,
     "metadata": {},
     "output_type": "execute_result"
    },
    {
     "data": {
      "image/png": "[encoded data removed]",
      "text/plain": [
       "<Figure size 432x288 with 1 Axes>"
      ]
     },
     "metadata": {},
     "output_type": "display_data"
    }
   ],
   "source": [
    "sns.histplot(data=data, x='quantidade_de_cheques_sem_fundo')"
   ]
  },
  {
   "cell_type": "code",
   "execution_count": 48,
   "metadata": {},
   "outputs": [
    {
     "data": {
      "text/plain": [
       "<AxesSubplot:xlabel='quantidade_de_cheques_sem_fundo'>"
      ]
     },
     "execution_count": 48,
     "metadata": {},
     "output_type": "execute_result"
    },
    {
     "data": {
      "image/png": "[encoded data removed]",
      "text/plain": [
       "<Figure size 432x288 with 1 Axes>"
      ]
     },
     "metadata": {},
     "output_type": "display_data"
    }
   ],
   "source": [
    "sns.boxplot(data=data, x='quantidade_de_cheques_sem_fundo')"
   ]
  },
  {
   "cell_type": "code",
   "execution_count": 49,
   "metadata": {},
   "outputs": [],
   "source": [
    "cheques_outlier = ~iqr_filter(data, 'quantidade_de_cheques_sem_fundo')\n",
    "cheques_inlier = iqr_filter(data, 'quantidade_de_cheques_sem_fundo')"
   ]
  },
  {
   "cell_type": "code",
   "execution_count": 50,
   "metadata": {},
   "outputs": [
    {
     "data": {
      "text/plain": [
       "261"
      ]
     },
     "execution_count": 50,
     "metadata": {},
     "output_type": "execute_result"
    }
   ],
   "source": [
    "cheques_outlier.sum()"
   ]
  },
  {
   "cell_type": "code",
   "execution_count": 51,
   "metadata": {},
   "outputs": [
    {
     "data": {
      "text/html": [
       "<div>\n",
       "<style scoped>\n",
       "    .dataframe tbody tr th:only-of-type {\n",
       "        vertical-align: middle;\n",
       "    }\n",
       "\n",
       "    .dataframe tbody tr th {\n",
       "        vertical-align: top;\n",
       "    }\n",
       "\n",
       "    .dataframe thead th {\n",
       "        text-align: right;\n",
       "    }\n",
       "</style>\n",
       "<table border=\"1\" class=\"dataframe\">\n",
       "  <thead>\n",
       "    <tr style=\"text-align: right;\">\n",
       "      <th></th>\n",
       "      <th>quantidade_de_cheques_sem_fundo</th>\n",
       "    </tr>\n",
       "  </thead>\n",
       "  <tbody>\n",
       "    <tr>\n",
       "      <th>count</th>\n",
       "      <td>8008.0</td>\n",
       "    </tr>\n",
       "    <tr>\n",
       "      <th>mean</th>\n",
       "      <td>0.0</td>\n",
       "    </tr>\n",
       "    <tr>\n",
       "      <th>std</th>\n",
       "      <td>0.0</td>\n",
       "    </tr>\n",
       "    <tr>\n",
       "      <th>min</th>\n",
       "      <td>0.0</td>\n",
       "    </tr>\n",
       "    <tr>\n",
       "      <th>25%</th>\n",
       "      <td>0.0</td>\n",
       "    </tr>\n",
       "    <tr>\n",
       "      <th>50%</th>\n",
       "      <td>0.0</td>\n",
       "    </tr>\n",
       "    <tr>\n",
       "      <th>75%</th>\n",
       "      <td>0.0</td>\n",
       "    </tr>\n",
       "    <tr>\n",
       "      <th>max</th>\n",
       "      <td>0.0</td>\n",
       "    </tr>\n",
       "  </tbody>\n",
       "</table>\n",
       "</div>"
      ],
      "text/plain": [
       "       quantidade_de_cheques_sem_fundo\n",
       "count                           8008.0\n",
       "mean                               0.0\n",
       "std                                0.0\n",
       "min                                0.0\n",
       "25%                                0.0\n",
       "50%                                0.0\n",
       "75%                                0.0\n",
       "max                                0.0"
      ]
     },
     "execution_count": 51,
     "metadata": {},
     "output_type": "execute_result"
    }
   ],
   "source": [
    "data.loc[cheques_inlier].quantidade_de_cheques_sem_fundo.describe().to_frame()"
   ]
  },
  {
   "cell_type": "code",
   "execution_count": 52,
   "metadata": {},
   "outputs": [
    {
     "data": {
      "text/plain": [
       "SpearmanrResult(correlation=0.08391813056347568, pvalue=2.1164881611528785e-14)"
      ]
     },
     "execution_count": 52,
     "metadata": {},
     "output_type": "execute_result"
    }
   ],
   "source": [
    "st.spearmanr(data.quantidade_de_cheques_sem_fundo, data.target)"
   ]
  },
  {
   "cell_type": "markdown",
   "metadata": {},
   "source": [
    "A quantidade de pessoas com cheques sem fundo é tão pequena na base que os pontos que existem são considerados anormais pelo IQR. Apesar disso a correlação entre a variável e a Performance é positiva. Esse campo talvez seja descartado por ter pouco mais de 200 registros não nulos."
   ]
  },
  {
   "cell_type": "markdown",
   "metadata": {},
   "source": [
    "### Quantidade de Restritivos"
   ]
  },
  {
   "cell_type": "code",
   "execution_count": 53,
   "metadata": {},
   "outputs": [
    {
     "data": {
      "text/html": [
       "<div>\n",
       "<style scoped>\n",
       "    .dataframe tbody tr th:only-of-type {\n",
       "        vertical-align: middle;\n",
       "    }\n",
       "\n",
       "    .dataframe tbody tr th {\n",
       "        vertical-align: top;\n",
       "    }\n",
       "\n",
       "    .dataframe thead th {\n",
       "        text-align: right;\n",
       "    }\n",
       "</style>\n",
       "<table border=\"1\" class=\"dataframe\">\n",
       "  <thead>\n",
       "    <tr style=\"text-align: right;\">\n",
       "      <th></th>\n",
       "      <th>quantidade_de_restritivos</th>\n",
       "    </tr>\n",
       "  </thead>\n",
       "  <tbody>\n",
       "    <tr>\n",
       "      <th>count</th>\n",
       "      <td>8269.000000</td>\n",
       "    </tr>\n",
       "    <tr>\n",
       "      <th>mean</th>\n",
       "      <td>0.710727</td>\n",
       "    </tr>\n",
       "    <tr>\n",
       "      <th>std</th>\n",
       "      <td>1.831960</td>\n",
       "    </tr>\n",
       "    <tr>\n",
       "      <th>min</th>\n",
       "      <td>-7.000000</td>\n",
       "    </tr>\n",
       "    <tr>\n",
       "      <th>25%</th>\n",
       "      <td>0.000000</td>\n",
       "    </tr>\n",
       "    <tr>\n",
       "      <th>50%</th>\n",
       "      <td>0.000000</td>\n",
       "    </tr>\n",
       "    <tr>\n",
       "      <th>75%</th>\n",
       "      <td>1.000000</td>\n",
       "    </tr>\n",
       "    <tr>\n",
       "      <th>max</th>\n",
       "      <td>35.000000</td>\n",
       "    </tr>\n",
       "  </tbody>\n",
       "</table>\n",
       "</div>"
      ],
      "text/plain": [
       "       quantidade_de_restritivos\n",
       "count                8269.000000\n",
       "mean                    0.710727\n",
       "std                     1.831960\n",
       "min                    -7.000000\n",
       "25%                     0.000000\n",
       "50%                     0.000000\n",
       "75%                     1.000000\n",
       "max                    35.000000"
      ]
     },
     "execution_count": 53,
     "metadata": {},
     "output_type": "execute_result"
    }
   ],
   "source": [
    "data.quantidade_de_restritivos.describe().to_frame()"
   ]
  },
  {
   "cell_type": "code",
   "execution_count": 54,
   "metadata": {},
   "outputs": [
    {
     "data": {
      "text/plain": [
       "(24, 0.0029024065787882454)"
      ]
     },
     "execution_count": 54,
     "metadata": {},
     "output_type": "execute_result"
    }
   ],
   "source": [
    "(data.quantidade_de_restritivos < 0).sum(), (data.quantidade_de_restritivos < 0).sum()/data.__len__()"
   ]
  },
  {
   "cell_type": "code",
   "execution_count": 55,
   "metadata": {},
   "outputs": [
    {
     "data": {
      "text/html": [
       "<div>\n",
       "<style scoped>\n",
       "    .dataframe tbody tr th:only-of-type {\n",
       "        vertical-align: middle;\n",
       "    }\n",
       "\n",
       "    .dataframe tbody tr th {\n",
       "        vertical-align: top;\n",
       "    }\n",
       "\n",
       "    .dataframe thead th {\n",
       "        text-align: right;\n",
       "    }\n",
       "</style>\n",
       "<table border=\"1\" class=\"dataframe\">\n",
       "  <thead>\n",
       "    <tr style=\"text-align: right;\">\n",
       "      <th></th>\n",
       "      <th>quantidade_de_restritivos</th>\n",
       "      <th>valor_dos_restritivos</th>\n",
       "    </tr>\n",
       "  </thead>\n",
       "  <tbody>\n",
       "    <tr>\n",
       "      <th>161</th>\n",
       "      <td>-6.0</td>\n",
       "      <td>0.0</td>\n",
       "    </tr>\n",
       "    <tr>\n",
       "      <th>261</th>\n",
       "      <td>-3.0</td>\n",
       "      <td>0.0</td>\n",
       "    </tr>\n",
       "    <tr>\n",
       "      <th>264</th>\n",
       "      <td>-4.0</td>\n",
       "      <td>0.0</td>\n",
       "    </tr>\n",
       "    <tr>\n",
       "      <th>311</th>\n",
       "      <td>-1.0</td>\n",
       "      <td>0.0</td>\n",
       "    </tr>\n",
       "    <tr>\n",
       "      <th>388</th>\n",
       "      <td>-1.0</td>\n",
       "      <td>0.0</td>\n",
       "    </tr>\n",
       "    <tr>\n",
       "      <th>393</th>\n",
       "      <td>-1.0</td>\n",
       "      <td>0.0</td>\n",
       "    </tr>\n",
       "    <tr>\n",
       "      <th>436</th>\n",
       "      <td>-1.0</td>\n",
       "      <td>0.0</td>\n",
       "    </tr>\n",
       "    <tr>\n",
       "      <th>1008</th>\n",
       "      <td>-1.0</td>\n",
       "      <td>0.0</td>\n",
       "    </tr>\n",
       "    <tr>\n",
       "      <th>1471</th>\n",
       "      <td>-1.0</td>\n",
       "      <td>0.0</td>\n",
       "    </tr>\n",
       "    <tr>\n",
       "      <th>1518</th>\n",
       "      <td>-1.0</td>\n",
       "      <td>0.0</td>\n",
       "    </tr>\n",
       "    <tr>\n",
       "      <th>1522</th>\n",
       "      <td>-7.0</td>\n",
       "      <td>8263.0</td>\n",
       "    </tr>\n",
       "    <tr>\n",
       "      <th>1546</th>\n",
       "      <td>-1.0</td>\n",
       "      <td>0.0</td>\n",
       "    </tr>\n",
       "    <tr>\n",
       "      <th>1869</th>\n",
       "      <td>-1.0</td>\n",
       "      <td>0.0</td>\n",
       "    </tr>\n",
       "    <tr>\n",
       "      <th>1878</th>\n",
       "      <td>-1.0</td>\n",
       "      <td>0.0</td>\n",
       "    </tr>\n",
       "    <tr>\n",
       "      <th>2256</th>\n",
       "      <td>-1.0</td>\n",
       "      <td>0.0</td>\n",
       "    </tr>\n",
       "    <tr>\n",
       "      <th>2526</th>\n",
       "      <td>-1.0</td>\n",
       "      <td>0.0</td>\n",
       "    </tr>\n",
       "    <tr>\n",
       "      <th>2764</th>\n",
       "      <td>-3.0</td>\n",
       "      <td>0.0</td>\n",
       "    </tr>\n",
       "    <tr>\n",
       "      <th>2798</th>\n",
       "      <td>-1.0</td>\n",
       "      <td>0.0</td>\n",
       "    </tr>\n",
       "    <tr>\n",
       "      <th>3018</th>\n",
       "      <td>-1.0</td>\n",
       "      <td>0.0</td>\n",
       "    </tr>\n",
       "    <tr>\n",
       "      <th>3144</th>\n",
       "      <td>-1.0</td>\n",
       "      <td>0.0</td>\n",
       "    </tr>\n",
       "    <tr>\n",
       "      <th>4723</th>\n",
       "      <td>-1.0</td>\n",
       "      <td>0.0</td>\n",
       "    </tr>\n",
       "    <tr>\n",
       "      <th>5991</th>\n",
       "      <td>-1.0</td>\n",
       "      <td>0.0</td>\n",
       "    </tr>\n",
       "    <tr>\n",
       "      <th>8463</th>\n",
       "      <td>-1.0</td>\n",
       "      <td>0.0</td>\n",
       "    </tr>\n",
       "    <tr>\n",
       "      <th>9871</th>\n",
       "      <td>-1.0</td>\n",
       "      <td>0.0</td>\n",
       "    </tr>\n",
       "  </tbody>\n",
       "</table>\n",
       "</div>"
      ],
      "text/plain": [
       "      quantidade_de_restritivos  valor_dos_restritivos\n",
       "161                        -6.0                    0.0\n",
       "261                        -3.0                    0.0\n",
       "264                        -4.0                    0.0\n",
       "311                        -1.0                    0.0\n",
       "388                        -1.0                    0.0\n",
       "393                        -1.0                    0.0\n",
       "436                        -1.0                    0.0\n",
       "1008                       -1.0                    0.0\n",
       "1471                       -1.0                    0.0\n",
       "1518                       -1.0                    0.0\n",
       "1522                       -7.0                 8263.0\n",
       "1546                       -1.0                    0.0\n",
       "1869                       -1.0                    0.0\n",
       "1878                       -1.0                    0.0\n",
       "2256                       -1.0                    0.0\n",
       "2526                       -1.0                    0.0\n",
       "2764                       -3.0                    0.0\n",
       "2798                       -1.0                    0.0\n",
       "3018                       -1.0                    0.0\n",
       "3144                       -1.0                    0.0\n",
       "4723                       -1.0                    0.0\n",
       "5991                       -1.0                    0.0\n",
       "8463                       -1.0                    0.0\n",
       "9871                       -1.0                    0.0"
      ]
     },
     "execution_count": 55,
     "metadata": {},
     "output_type": "execute_result"
    }
   ],
   "source": [
    "qtd_negativa = data[data.quantidade_de_restritivos < 0]\n",
    "qtd_negativa[['quantidade_de_restritivos', 'valor_dos_restritivos']]"
   ]
  },
  {
   "cell_type": "markdown",
   "metadata": {},
   "source": [
    "Uma inconsistência é evidenciada pelo valor negativo ali listado. Um cliente não pode ter uma quantidade negativa de restritivos em seu nome. Um ainda possui valor de restritivos atrelados. Opto por removê-los da base. "
   ]
  },
  {
   "cell_type": "code",
   "execution_count": 56,
   "metadata": {},
   "outputs": [],
   "source": [
    "data = data.drop(qtd_negativa.index, axis=0)"
   ]
  },
  {
   "cell_type": "code",
   "execution_count": 57,
   "metadata": {},
   "outputs": [
    {
     "data": {
      "image/png": "[encoded data removed]",
      "text/plain": [
       "<Figure size 432x288 with 1 Axes>"
      ]
     },
     "metadata": {},
     "output_type": "display_data"
    }
   ],
   "source": [
    "sns.boxplot(data=data, x='quantidade_de_restritivos')\n",
    "plt.xlabel('Quantidade de Restritivos')\n",
    "plt.title('Boxplot da Quantidade de Restritivos');"
   ]
  },
  {
   "cell_type": "code",
   "execution_count": 58,
   "metadata": {},
   "outputs": [
    {
     "data": {
      "text/plain": [
       "735"
      ]
     },
     "execution_count": 58,
     "metadata": {},
     "output_type": "execute_result"
    }
   ],
   "source": [
    "(~iqr_filter(data, 'quantidade_de_restritivos')).sum() # Quantidade de outliers em quantidade de restritivos"
   ]
  },
  {
   "cell_type": "markdown",
   "metadata": {},
   "source": [
    "A quantidade de outliers aqui é grande e considero como uma característica do atributo. Essa característica vai se repetir nesses campos pois a maioria dos clientes não possui restritivos. Em seguida, calcula-se a correlação:"
   ]
  },
  {
   "cell_type": "code",
   "execution_count": 59,
   "metadata": {},
   "outputs": [
    {
     "data": {
      "text/plain": [
       "SpearmanrResult(correlation=0.21456578623960396, pvalue=1.768773086316833e-86)"
      ]
     },
     "execution_count": 59,
     "metadata": {},
     "output_type": "execute_result"
    }
   ],
   "source": [
    "st.spearmanr(data.quantidade_de_restritivos, data.target)"
   ]
  },
  {
   "cell_type": "markdown",
   "metadata": {},
   "source": [
    "A correlação de spearman é positiva e média."
   ]
  },
  {
   "cell_type": "markdown",
   "metadata": {},
   "source": [
    "### Valor dos Restritivos"
   ]
  },
  {
   "cell_type": "code",
   "execution_count": 60,
   "metadata": {},
   "outputs": [
    {
     "data": {
      "text/html": [
       "<div>\n",
       "<style scoped>\n",
       "    .dataframe tbody tr th:only-of-type {\n",
       "        vertical-align: middle;\n",
       "    }\n",
       "\n",
       "    .dataframe tbody tr th {\n",
       "        vertical-align: top;\n",
       "    }\n",
       "\n",
       "    .dataframe thead th {\n",
       "        text-align: right;\n",
       "    }\n",
       "</style>\n",
       "<table border=\"1\" class=\"dataframe\">\n",
       "  <thead>\n",
       "    <tr style=\"text-align: right;\">\n",
       "      <th></th>\n",
       "      <th>valor_dos_restritivos</th>\n",
       "    </tr>\n",
       "  </thead>\n",
       "  <tbody>\n",
       "    <tr>\n",
       "      <th>count</th>\n",
       "      <td>8245.000000</td>\n",
       "    </tr>\n",
       "    <tr>\n",
       "      <th>mean</th>\n",
       "      <td>1523.889751</td>\n",
       "    </tr>\n",
       "    <tr>\n",
       "      <th>std</th>\n",
       "      <td>9744.780035</td>\n",
       "    </tr>\n",
       "    <tr>\n",
       "      <th>min</th>\n",
       "      <td>0.000000</td>\n",
       "    </tr>\n",
       "    <tr>\n",
       "      <th>25%</th>\n",
       "      <td>0.000000</td>\n",
       "    </tr>\n",
       "    <tr>\n",
       "      <th>50%</th>\n",
       "      <td>0.000000</td>\n",
       "    </tr>\n",
       "    <tr>\n",
       "      <th>75%</th>\n",
       "      <td>147.000000</td>\n",
       "    </tr>\n",
       "    <tr>\n",
       "      <th>max</th>\n",
       "      <td>434837.000000</td>\n",
       "    </tr>\n",
       "  </tbody>\n",
       "</table>\n",
       "</div>"
      ],
      "text/plain": [
       "       valor_dos_restritivos\n",
       "count            8245.000000\n",
       "mean             1523.889751\n",
       "std              9744.780035\n",
       "min                 0.000000\n",
       "25%                 0.000000\n",
       "50%                 0.000000\n",
       "75%               147.000000\n",
       "max            434837.000000"
      ]
     },
     "execution_count": 60,
     "metadata": {},
     "output_type": "execute_result"
    }
   ],
   "source": [
    "data.valor_dos_restritivos.describe().to_frame()"
   ]
  },
  {
   "cell_type": "code",
   "execution_count": 61,
   "metadata": {},
   "outputs": [
    {
     "data": {
      "text/plain": [
       "<AxesSubplot:xlabel='valor_dos_restritivos'>"
      ]
     },
     "execution_count": 61,
     "metadata": {},
     "output_type": "execute_result"
    },
    {
     "data": {
      "image/png": "[encoded data removed]",
      "text/plain": [
       "<Figure size 432x288 with 1 Axes>"
      ]
     },
     "metadata": {},
     "output_type": "display_data"
    }
   ],
   "source": [
    "sns.boxplot(data=data, x='valor_dos_restritivos')"
   ]
  },
  {
   "cell_type": "code",
   "execution_count": 62,
   "metadata": {},
   "outputs": [
    {
     "data": {
      "text/plain": [
       "1711"
      ]
     },
     "execution_count": 62,
     "metadata": {},
     "output_type": "execute_result"
    }
   ],
   "source": [
    "(~iqr_filter(data, 'valor_dos_restritivos')).sum() # Quantidade de outliers em valor dos restritivos\t"
   ]
  },
  {
   "cell_type": "code",
   "execution_count": 63,
   "metadata": {},
   "outputs": [
    {
     "data": {
      "text/plain": [
       "17"
      ]
     },
     "execution_count": 63,
     "metadata": {},
     "output_type": "execute_result"
    }
   ],
   "source": [
    "(data.valor_dos_restritivos > 100000).sum()"
   ]
  },
  {
   "cell_type": "markdown",
   "metadata": {},
   "source": [
    "Novamente, aqui se vê uma característica da base. Aqui um outlier talvez seriam os pontos acima de 100000, 17 valores muito altos. Mesmo com a aplicação de outra filtragem pelo IQR os valores se encontram muito concentrados em um dos lados. Opto por remover os valores acima de 100000."
   ]
  },
  {
   "cell_type": "code",
   "execution_count": 64,
   "metadata": {},
   "outputs": [],
   "source": [
    "data = data.drop(data[data.valor_dos_restritivos > 100000].index, axis=0)"
   ]
  },
  {
   "cell_type": "code",
   "execution_count": 65,
   "metadata": {},
   "outputs": [
    {
     "data": {
      "text/plain": [
       "SpearmanrResult(correlation=0.21270436692583886, pvalue=8.212395204506752e-85)"
      ]
     },
     "execution_count": 65,
     "metadata": {},
     "output_type": "execute_result"
    }
   ],
   "source": [
    "# st.spearmanr(data.loc[data.valor_dos_restritivos < 100000].valor_dos_restritivos, data.loc[data.valor_dos_restritivos < 100000].target)\n",
    "st.spearmanr(data.valor_dos_restritivos, data.target)"
   ]
  },
  {
   "cell_type": "markdown",
   "metadata": {},
   "source": [
    "A correlação aqui também é positiva e média."
   ]
  },
  {
   "cell_type": "markdown",
   "metadata": {},
   "source": [
    "Mais uma análise de sanidade deve ser feita antes de realizar a derivação de um atributo. A análise consiste em verificar se existem registros que possuem nenhuma quantidade de restritivos, mas que possuam valores de restritivos não nulos. Se existirem, esses registros devem ser removidos."
   ]
  },
  {
   "cell_type": "code",
   "execution_count": 66,
   "metadata": {},
   "outputs": [
    {
     "data": {
      "text/plain": [
       "5"
      ]
     },
     "execution_count": 66,
     "metadata": {},
     "output_type": "execute_result"
    }
   ],
   "source": [
    "# Checar se existem quantidades zeradas e valores não zerados\n",
    "quantidade_zero = data.quantidade_de_restritivos == 0\n",
    "valores_not_zero = data.valor_dos_restritivos != 0\n",
    "(quantidade_zero & valores_not_zero).sum()"
   ]
  },
  {
   "cell_type": "markdown",
   "metadata": {},
   "source": [
    "5 resgistros precisam ser removidos."
   ]
  },
  {
   "cell_type": "code",
   "execution_count": 67,
   "metadata": {},
   "outputs": [],
   "source": [
    "data = data.drop(data[quantidade_zero & valores_not_zero].index, axis=0)"
   ]
  },
  {
   "cell_type": "markdown",
   "metadata": {},
   "source": [
    "Derivação de atributo"
   ]
  },
  {
   "cell_type": "code",
   "execution_count": 68,
   "metadata": {},
   "outputs": [],
   "source": [
    "valor_quantidade_restritivos = data.valor_dos_restritivos / data.quantidade_de_restritivos\n",
    "valor_quantidade_restritivos = valor_quantidade_restritivos.fillna(0)"
   ]
  },
  {
   "cell_type": "code",
   "execution_count": 69,
   "metadata": {},
   "outputs": [
    {
     "data": {
      "text/html": [
       "<div>\n",
       "<style scoped>\n",
       "    .dataframe tbody tr th:only-of-type {\n",
       "        vertical-align: middle;\n",
       "    }\n",
       "\n",
       "    .dataframe tbody tr th {\n",
       "        vertical-align: top;\n",
       "    }\n",
       "\n",
       "    .dataframe thead th {\n",
       "        text-align: right;\n",
       "    }\n",
       "</style>\n",
       "<table border=\"1\" class=\"dataframe\">\n",
       "  <thead>\n",
       "    <tr style=\"text-align: right;\">\n",
       "      <th></th>\n",
       "      <th>0</th>\n",
       "    </tr>\n",
       "  </thead>\n",
       "  <tbody>\n",
       "    <tr>\n",
       "      <th>count</th>\n",
       "      <td>8223.000000</td>\n",
       "    </tr>\n",
       "    <tr>\n",
       "      <th>mean</th>\n",
       "      <td>595.499422</td>\n",
       "    </tr>\n",
       "    <tr>\n",
       "      <th>std</th>\n",
       "      <td>3514.033341</td>\n",
       "    </tr>\n",
       "    <tr>\n",
       "      <th>min</th>\n",
       "      <td>0.000000</td>\n",
       "    </tr>\n",
       "    <tr>\n",
       "      <th>25%</th>\n",
       "      <td>0.000000</td>\n",
       "    </tr>\n",
       "    <tr>\n",
       "      <th>50%</th>\n",
       "      <td>0.000000</td>\n",
       "    </tr>\n",
       "    <tr>\n",
       "      <th>75%</th>\n",
       "      <td>108.250000</td>\n",
       "    </tr>\n",
       "    <tr>\n",
       "      <th>max</th>\n",
       "      <td>96071.000000</td>\n",
       "    </tr>\n",
       "  </tbody>\n",
       "</table>\n",
       "</div>"
      ],
      "text/plain": [
       "                  0\n",
       "count   8223.000000\n",
       "mean     595.499422\n",
       "std     3514.033341\n",
       "min        0.000000\n",
       "25%        0.000000\n",
       "50%        0.000000\n",
       "75%      108.250000\n",
       "max    96071.000000"
      ]
     },
     "execution_count": 69,
     "metadata": {},
     "output_type": "execute_result"
    }
   ],
   "source": [
    "valor_quantidade_restritivos.describe().to_frame()"
   ]
  },
  {
   "cell_type": "code",
   "execution_count": 70,
   "metadata": {},
   "outputs": [
    {
     "data": {
      "text/plain": [
       "<AxesSubplot:>"
      ]
     },
     "execution_count": 70,
     "metadata": {},
     "output_type": "execute_result"
    },
    {
     "data": {
      "image/png": "[encoded data removed]",
      "text/plain": [
       "<Figure size 432x288 with 1 Axes>"
      ]
     },
     "metadata": {},
     "output_type": "display_data"
    }
   ],
   "source": [
    "sns.boxplot( x=valor_quantidade_restritivos)"
   ]
  },
  {
   "cell_type": "code",
   "execution_count": 71,
   "metadata": {},
   "outputs": [],
   "source": [
    "data['valor_por_restritivo'] = valor_quantidade_restritivos"
   ]
  },
  {
   "cell_type": "code",
   "execution_count": 72,
   "metadata": {},
   "outputs": [
    {
     "data": {
      "text/plain": [
       "SpearmanrResult(correlation=0.2081539205370463, pvalue=3.559513976134106e-81)"
      ]
     },
     "execution_count": 72,
     "metadata": {},
     "output_type": "execute_result"
    }
   ],
   "source": [
    "st.spearmanr(data.valor_por_restritivo, data.target)"
   ]
  },
  {
   "cell_type": "markdown",
   "metadata": {},
   "source": [
    "A variável derivada `Valor Por Restritivo` também mostra uma boa correlação com a variável resposta, mas menor que as variáveis que a compõem."
   ]
  },
  {
   "cell_type": "markdown",
   "metadata": {},
   "source": [
    "### Quantidade de Protestos"
   ]
  },
  {
   "cell_type": "code",
   "execution_count": 73,
   "metadata": {},
   "outputs": [
    {
     "data": {
      "text/html": [
       "<div>\n",
       "<style scoped>\n",
       "    .dataframe tbody tr th:only-of-type {\n",
       "        vertical-align: middle;\n",
       "    }\n",
       "\n",
       "    .dataframe tbody tr th {\n",
       "        vertical-align: top;\n",
       "    }\n",
       "\n",
       "    .dataframe thead th {\n",
       "        text-align: right;\n",
       "    }\n",
       "</style>\n",
       "<table border=\"1\" class=\"dataframe\">\n",
       "  <thead>\n",
       "    <tr style=\"text-align: right;\">\n",
       "      <th></th>\n",
       "      <th>quantidade_de_protestos</th>\n",
       "    </tr>\n",
       "  </thead>\n",
       "  <tbody>\n",
       "    <tr>\n",
       "      <th>count</th>\n",
       "      <td>8223.000000</td>\n",
       "    </tr>\n",
       "    <tr>\n",
       "      <th>mean</th>\n",
       "      <td>0.145932</td>\n",
       "    </tr>\n",
       "    <tr>\n",
       "      <th>std</th>\n",
       "      <td>1.154290</td>\n",
       "    </tr>\n",
       "    <tr>\n",
       "      <th>min</th>\n",
       "      <td>0.000000</td>\n",
       "    </tr>\n",
       "    <tr>\n",
       "      <th>25%</th>\n",
       "      <td>0.000000</td>\n",
       "    </tr>\n",
       "    <tr>\n",
       "      <th>50%</th>\n",
       "      <td>0.000000</td>\n",
       "    </tr>\n",
       "    <tr>\n",
       "      <th>75%</th>\n",
       "      <td>0.000000</td>\n",
       "    </tr>\n",
       "    <tr>\n",
       "      <th>max</th>\n",
       "      <td>37.000000</td>\n",
       "    </tr>\n",
       "  </tbody>\n",
       "</table>\n",
       "</div>"
      ],
      "text/plain": [
       "       quantidade_de_protestos\n",
       "count              8223.000000\n",
       "mean                  0.145932\n",
       "std                   1.154290\n",
       "min                   0.000000\n",
       "25%                   0.000000\n",
       "50%                   0.000000\n",
       "75%                   0.000000\n",
       "max                  37.000000"
      ]
     },
     "execution_count": 73,
     "metadata": {},
     "output_type": "execute_result"
    }
   ],
   "source": [
    "data.quantidade_de_protestos.describe().to_frame()"
   ]
  },
  {
   "cell_type": "code",
   "execution_count": 74,
   "metadata": {},
   "outputs": [
    {
     "data": {
      "text/plain": [
       "431"
      ]
     },
     "execution_count": 74,
     "metadata": {},
     "output_type": "execute_result"
    }
   ],
   "source": [
    "(~iqr_filter(data, 'quantidade_de_protestos')).sum() # Quantidade de outliers em quantidade de protestos"
   ]
  },
  {
   "cell_type": "code",
   "execution_count": 75,
   "metadata": {},
   "outputs": [
    {
     "data": {
      "text/plain": [
       "SpearmanrResult(correlation=0.06998672389881273, pvalue=2.1077779248859585e-10)"
      ]
     },
     "execution_count": 75,
     "metadata": {},
     "output_type": "execute_result"
    }
   ],
   "source": [
    "st.spearmanr(data.quantidade_de_protestos, data.target)"
   ]
  },
  {
   "cell_type": "markdown",
   "metadata": {},
   "source": [
    "### Valor dos Protestos"
   ]
  },
  {
   "cell_type": "code",
   "execution_count": 76,
   "metadata": {},
   "outputs": [
    {
     "data": {
      "text/html": [
       "<div>\n",
       "<style scoped>\n",
       "    .dataframe tbody tr th:only-of-type {\n",
       "        vertical-align: middle;\n",
       "    }\n",
       "\n",
       "    .dataframe tbody tr th {\n",
       "        vertical-align: top;\n",
       "    }\n",
       "\n",
       "    .dataframe thead th {\n",
       "        text-align: right;\n",
       "    }\n",
       "</style>\n",
       "<table border=\"1\" class=\"dataframe\">\n",
       "  <thead>\n",
       "    <tr style=\"text-align: right;\">\n",
       "      <th></th>\n",
       "      <th>valor_dos_protestos</th>\n",
       "    </tr>\n",
       "  </thead>\n",
       "  <tbody>\n",
       "    <tr>\n",
       "      <th>count</th>\n",
       "      <td>8223.000000</td>\n",
       "    </tr>\n",
       "    <tr>\n",
       "      <th>mean</th>\n",
       "      <td>199.283595</td>\n",
       "    </tr>\n",
       "    <tr>\n",
       "      <th>std</th>\n",
       "      <td>2715.462400</td>\n",
       "    </tr>\n",
       "    <tr>\n",
       "      <th>min</th>\n",
       "      <td>0.000000</td>\n",
       "    </tr>\n",
       "    <tr>\n",
       "      <th>25%</th>\n",
       "      <td>0.000000</td>\n",
       "    </tr>\n",
       "    <tr>\n",
       "      <th>50%</th>\n",
       "      <td>0.000000</td>\n",
       "    </tr>\n",
       "    <tr>\n",
       "      <th>75%</th>\n",
       "      <td>0.000000</td>\n",
       "    </tr>\n",
       "    <tr>\n",
       "      <th>max</th>\n",
       "      <td>133742.000000</td>\n",
       "    </tr>\n",
       "  </tbody>\n",
       "</table>\n",
       "</div>"
      ],
      "text/plain": [
       "       valor_dos_protestos\n",
       "count          8223.000000\n",
       "mean            199.283595\n",
       "std            2715.462400\n",
       "min               0.000000\n",
       "25%               0.000000\n",
       "50%               0.000000\n",
       "75%               0.000000\n",
       "max          133742.000000"
      ]
     },
     "execution_count": 76,
     "metadata": {},
     "output_type": "execute_result"
    }
   ],
   "source": [
    "data.valor_dos_protestos.describe().to_frame()"
   ]
  },
  {
   "cell_type": "code",
   "execution_count": 77,
   "metadata": {},
   "outputs": [
    {
     "data": {
      "text/plain": [
       "431"
      ]
     },
     "execution_count": 77,
     "metadata": {},
     "output_type": "execute_result"
    }
   ],
   "source": [
    "(~iqr_filter(data, 'valor_dos_protestos')).sum() # Quantidade de outliers em valor dos protestos"
   ]
  },
  {
   "cell_type": "code",
   "execution_count": 78,
   "metadata": {},
   "outputs": [
    {
     "data": {
      "text/plain": [
       "SpearmanrResult(correlation=0.06932787396991404, pvalue=3.1074445412322955e-10)"
      ]
     },
     "execution_count": 78,
     "metadata": {},
     "output_type": "execute_result"
    }
   ],
   "source": [
    "st.spearmanr(data.valor_dos_protestos, data.target)"
   ]
  },
  {
   "cell_type": "markdown",
   "metadata": {},
   "source": [
    "Observa-se uma fraca correlação entre a variável valor dos protestos e a Performance."
   ]
  },
  {
   "cell_type": "code",
   "execution_count": 79,
   "metadata": {},
   "outputs": [
    {
     "data": {
      "text/plain": [
       "0"
      ]
     },
     "execution_count": 79,
     "metadata": {},
     "output_type": "execute_result"
    }
   ],
   "source": [
    "# checar se existem quantidades zerados e valores não zerados\n",
    "quantidade_zero = data.quantidade_de_protestos == 0\n",
    "valores_not_zero = data.valor_dos_protestos != 0\n",
    "(quantidade_zero & valores_not_zero).sum()"
   ]
  },
  {
   "cell_type": "code",
   "execution_count": 80,
   "metadata": {},
   "outputs": [],
   "source": [
    "#derivação de variável\n",
    "valor_por_protesto = data.valor_dos_protestos / data.quantidade_de_protestos\n",
    "valor_por_protesto = valor_por_protesto.fillna(0)\n",
    "data['valor_por_protesto'] = valor_por_protesto"
   ]
  },
  {
   "cell_type": "code",
   "execution_count": 81,
   "metadata": {},
   "outputs": [
    {
     "data": {
      "text/plain": [
       "SpearmanrResult(correlation=0.06877706105209157, pvalue=4.287046917317038e-10)"
      ]
     },
     "execution_count": 81,
     "metadata": {},
     "output_type": "execute_result"
    }
   ],
   "source": [
    "st.spearmanr(data.valor_por_protesto, data.target)"
   ]
  },
  {
   "cell_type": "markdown",
   "metadata": {},
   "source": [
    "## Criação do modelo de ML\n",
    "\n",
    "Para criação do modelo considero dois algoritmos: SVM e Random Forest. São modelos não paramétricos e amplamente utilizados. Os dados poderiam ser adequados a uma distribuição gaussiana, mas possibilitaria e exigiria uma análise muito mais robusta dos atributos e suas importâncias para um modelo. Com o tempo disponível agora considero essas duas possibilidades de algoritmos de ML."
   ]
  },
  {
   "cell_type": "code",
   "execution_count": 83,
   "metadata": {},
   "outputs": [],
   "source": [
    "random_state = np.random.RandomState(15)"
   ]
  },
  {
   "cell_type": "markdown",
   "metadata": {},
   "source": [
    "### Preparação dos dados"
   ]
  },
  {
   "cell_type": "code",
   "execution_count": 84,
   "metadata": {},
   "outputs": [
    {
     "data": {
      "text/plain": [
       "Index(['safra', 'estado', 'renda_mensal', 'endividamento',\n",
       "       'quantidade_de_cheques_sem_fundo', 'quantidade_de_restritivos',\n",
       "       'valor_dos_restritivos', 'quantidade_de_protestos',\n",
       "       'valor_dos_protestos', 'performance_60d9m_ever', 'regiao', 'target',\n",
       "       'renda_livre', 'renda_comprometida', 'valor_por_restritivo',\n",
       "       'valor_por_protesto'],\n",
       "      dtype='object')"
      ]
     },
     "execution_count": 84,
     "metadata": {},
     "output_type": "execute_result"
    }
   ],
   "source": [
    "data.columns"
   ]
  },
  {
   "cell_type": "code",
   "execution_count": 85,
   "metadata": {},
   "outputs": [],
   "source": [
    "y = data.target # Alvo da classificação"
   ]
  },
  {
   "cell_type": "code",
   "execution_count": 86,
   "metadata": {},
   "outputs": [],
   "source": [
    "X = data.drop(['target', 'performance_60d9m_ever'], axis=1)  # Dados de entrada"
   ]
  },
  {
   "cell_type": "code",
   "execution_count": 87,
   "metadata": {},
   "outputs": [],
   "source": [
    "X_train, X_test, y_train, y_test = train_test_split(X, y, test_size=0.3, random_state=random_state, stratify=y)"
   ]
  },
  {
   "cell_type": "markdown",
   "metadata": {},
   "source": [
    "### Criação das Pipelines"
   ]
  },
  {
   "cell_type": "code",
   "execution_count": 113,
   "metadata": {},
   "outputs": [],
   "source": [
    "categorical = [\n",
    "    'safra', \n",
    "    # 'estado', \n",
    "    # 'endividamento', \n",
    "    'regiao'\n",
    "    ]\n",
    "numerical = [\n",
    "    'renda_mensal', \n",
    "    # 'quantidade_de_cheques_sem_fundo', \n",
    "    'quantidade_de_restritivos',\n",
    "    'valor_dos_restritivos', \n",
    "    'quantidade_de_protestos',\n",
    "    # 'valor_dos_protestos',\n",
    "    'renda_livre', \n",
    "    'renda_comprometida', \n",
    "    'valor_por_restritivo',\n",
    "    'valor_por_protesto'\n",
    "    ]\n",
    "\n",
    "ct = ColumnTransformer(\n",
    "    [\n",
    "        ('categorical', OneHotEncoder(categories='auto', handle_unknown='ignore'), categorical),\n",
    "        ('numerical', StandardScaler(), numerical),\n",
    "    ]\n",
    ")\n",
    "\n",
    "rf_model = Pipeline(\n",
    "    [\n",
    "        ('columnTransform', ct),\n",
    "        ('forest', RandomForestClassifier(n_estimators=300, random_state=random_state, n_jobs=-1))\n",
    "    ]\n",
    ")"
   ]
  },
  {
   "cell_type": "markdown",
   "metadata": {},
   "source": [
    "### Treinamento e teste do modelo e dos atributos"
   ]
  },
  {
   "cell_type": "code",
   "execution_count": 114,
   "metadata": {},
   "outputs": [
    {
     "name": "stdout",
     "output_type": "stream",
     "text": [
      "0.6050165456383858\n"
     ]
    },
    {
     "data": {
      "text/plain": [
       "[<matplotlib.lines.Line2D at 0x2d868038370>]"
      ]
     },
     "execution_count": 114,
     "metadata": {},
     "output_type": "execute_result"
    },
    {
     "data": {
      "image/png": "[encoded data removed]",
      "text/plain": [
       "<Figure size 432x288 with 1 Axes>"
      ]
     },
     "metadata": {},
     "output_type": "display_data"
    }
   ],
   "source": [
    "rf_model.fit(X_train, y_train)\n",
    "y_hat = rf_model.predict_proba(X_test)[:, 1]\n",
    "print(roc_auc_score(y_test, y_hat))\n",
    "fpr, tpr, thresholds = roc_curve(y_test, y_hat)\n",
    "plt.plot(fpr, tpr)"
   ]
  },
  {
   "cell_type": "markdown",
   "metadata": {},
   "source": [
    "Desempenho do Random Forestl para um teste incial. O desempenho na detecção da classe MAU está baixo. Tentarei um GridSearch para melhorar o desempenho."
   ]
  },
  {
   "cell_type": "code",
   "execution_count": null,
   "metadata": {},
   "outputs": [],
   "source": [
    "rf_gs = GridSearchCV(\n",
    "    estimator=rf_model,\n",
    "    param_grid={\n",
    "        'forest__n_estimators': [250, 500],\n",
    "        'forest__criterion': ['gini', 'entropy'],\n",
    "        'forest__max_depth': [7, None],\n",
    "        'forest__min_samples_leaf': [1, 7],\n",
    "        'forest__max_features': [0.5, 1.0],\n",
    "    },\n",
    "    scoring='roc_auc',\n",
    "    cv=3,\n",
    "    verbose=1,\n",
    "    n_jobs=1\n",
    ")\n",
    "rf_gs.fit(X_train, y_train)"
   ]
  },
  {
   "cell_type": "code",
   "execution_count": 96,
   "metadata": {},
   "outputs": [
    {
     "data": {
      "text/plain": [
       "0.6513200439338083"
      ]
     },
     "execution_count": 96,
     "metadata": {},
     "output_type": "execute_result"
    }
   ],
   "source": [
    "rf_gs.best_score_"
   ]
  },
  {
   "cell_type": "markdown",
   "metadata": {},
   "source": [
    "0.65 é uma melhora em relação a antes da busca. Vejamos os melhores parametros:"
   ]
  },
  {
   "cell_type": "code",
   "execution_count": 97,
   "metadata": {},
   "outputs": [
    {
     "data": {
      "text/plain": [
       "{'forest__criterion': 'gini',\n",
       " 'forest__max_depth': 7,\n",
       " 'forest__max_features': 0.5,\n",
       " 'forest__min_samples_leaf': 7,\n",
       " 'forest__n_estimators': 500}"
      ]
     },
     "execution_count": 97,
     "metadata": {},
     "output_type": "execute_result"
    }
   ],
   "source": [
    "rf_gs.best_params_"
   ]
  },
  {
   "cell_type": "code",
   "execution_count": 116,
   "metadata": {},
   "outputs": [
    {
     "name": "stdout",
     "output_type": "stream",
     "text": [
      "0.6472175751447743\n"
     ]
    }
   ],
   "source": [
    "y_hat = rf_gs.predict_proba(X_test)[:, 1]\n",
    "print(roc_auc_score(y_test, y_hat))"
   ]
  },
  {
   "cell_type": "code",
   "execution_count": 119,
   "metadata": {},
   "outputs": [
    {
     "data": {
      "image/png": "[encoded data removed]",
      "text/plain": [
       "<Figure size 432x288 with 1 Axes>"
      ]
     },
     "metadata": {},
     "output_type": "display_data"
    }
   ],
   "source": [
    "fpr, tpr, thresholds = roc_curve(y_test, y_hat)\n",
    "plt.plot(fpr, tpr)\n",
    "plt.title('ROC curve');"
   ]
  },
  {
   "cell_type": "markdown",
   "metadata": {},
   "source": [
    "Como visto, a busca teve impactos positivos no desempenho do modelo do conjunto de teste."
   ]
  },
  {
   "cell_type": "markdown",
   "metadata": {},
   "source": [
    "## Conclusão"
   ]
  },
  {
   "cell_type": "markdown",
   "metadata": {},
   "source": [
    "Para uma análise rápida e focada em uma variável resposta, o Random Forest é um modelo de ML que geralmente se adapta bem a qualquer tipo de problema. O GridSearch possibilitou uma melhor performance do modelo encontrando um melhor conjunto de parametros. Com mais tempo e recursos as outras variáveis respostas poderiam ser melhor exploradas com mais modelos, mais parâmetros e mais técnicas de análise."
   ]
  }
 ],
 "metadata": {
  "interpreter": {
   "hash": "10c97bb78bbd53bc77a96d9cc388cfc1de0fe1df997e81e4f9b3ac08197a9476"
  },
  "kernelspec": {
   "display_name": "Python 3.9.12 ('alura')",
   "language": "python",
   "name": "python3"
  },
  "language_info": {
   "codemirror_mode": {
    "name": "ipython",
    "version": 3
   },
   "file_extension": ".py",
   "mimetype": "text/x-python",
   "name": "python",
   "nbconvert_exporter": "python",
   "pygments_lexer": "ipython3",
   "version": "3.9.12"
  },
  "orig_nbformat": 4
 },
 "nbformat": 4,
 "nbformat_minor": 2
}
